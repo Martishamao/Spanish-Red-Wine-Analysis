{
  "cells": [
    {
      "cell_type": "markdown",
      "metadata": {
        "id": "view-in-github",
        "colab_type": "text"
      },
      "source": [
        "<a href=\"https://colab.research.google.com/github/Martishamao/Spanish-Red-Wine-Analysis/blob/main/Project_2_v4.ipynb\" target=\"_parent\"><img src=\"https://colab.research.google.com/assets/colab-badge.svg\" alt=\"Open In Colab\"/></a>"
      ]
    },
    {
      "cell_type": "markdown",
      "metadata": {
        "id": "zVAZT1EnrLPI"
      },
      "source": [
        "#Project 2 - Part 4\n",
        "\n",
        "#Spanish Wine Quality Dataset\n",
        "- Martisha Owens\n",
        "- 10/20/2022\n",
        "- https://www.kaggle.com/datasets/fedesoriano/spanish-wine-quality-dataset\n",
        "- This data describes 7500 different Spanish red wines.\n",
        "- The features include name of the wine, winery, year, rating, number of reviews, country, region, price, type of wine variety, body, and acidity.\n",
        "- The target is the rating of the Spanish wine.\n",
        "- This is a Classification problem, which will predict the rating on a scale from 0 to 5 (Or for this data 4.2, 4.3, 4.4, 4.5, 4.6, 4.7, 4.8, and 4.9).\n"
      ]
    },
    {
      "cell_type": "code",
      "execution_count": 1,
      "metadata": {
        "colab": {
          "base_uri": "https://localhost:8080/"
        },
        "id": "GCjrHeINvaIG",
        "outputId": "58788b9d-4350-4c76-efe7-be44a7ce9bdd"
      },
      "outputs": [
        {
          "output_type": "stream",
          "name": "stdout",
          "text": [
            "Mounted at /content/drive\n"
          ]
        }
      ],
      "source": [
        "from google.colab import drive\n",
        "drive.mount('/content/drive')"
      ]
    },
    {
      "cell_type": "markdown",
      "metadata": {
        "id": "vese5ls39QWO"
      },
      "source": [
        "#Clean the Data"
      ]
    },
    {
      "cell_type": "code",
      "execution_count": 2,
      "metadata": {
        "id": "n9F8YqfLstPZ"
      },
      "outputs": [],
      "source": [
        "import pandas as pd\n",
        "import numpy as np\n",
        "import matplotlib.pyplot as plt\n",
        "import seaborn as sns"
      ]
    },
    {
      "cell_type": "code",
      "execution_count": 3,
      "metadata": {
        "colab": {
          "base_uri": "https://localhost:8080/",
          "height": 204
        },
        "id": "7dR0_wOCsITA",
        "outputId": "cd375bae-5da9-42cf-d535-493516256121"
      },
      "outputs": [
        {
          "output_type": "execute_result",
          "data": {
            "text/plain": [
              "          winery           wine  year  rating  num_reviews country  \\\n",
              "0  Teso La Monja          Tinto  2013     4.9           58  Espana   \n",
              "1         Artadi  Vina El Pison  2018     4.9           31  Espana   \n",
              "2   Vega Sicilia          Unico  2009     4.8         1793  Espana   \n",
              "3   Vega Sicilia          Unico  1999     4.8         1705  Espana   \n",
              "4   Vega Sicilia          Unico  1996     4.8         1309  Espana   \n",
              "\n",
              "             region   price                  type  body  acidity  \n",
              "0              Toro  995.00              Toro Red   5.0      3.0  \n",
              "1    Vino de Espana  313.50           Tempranillo   4.0      2.0  \n",
              "2  Ribera del Duero  324.95  Ribera Del Duero Red   5.0      3.0  \n",
              "3  Ribera del Duero  692.96  Ribera Del Duero Red   5.0      3.0  \n",
              "4  Ribera del Duero  778.06  Ribera Del Duero Red   5.0      3.0  "
            ],
            "text/html": [
              "\n",
              "  <div id=\"df-406591b5-5e15-4f39-a1cf-c4c11765af87\">\n",
              "    <div class=\"colab-df-container\">\n",
              "      <div>\n",
              "<style scoped>\n",
              "    .dataframe tbody tr th:only-of-type {\n",
              "        vertical-align: middle;\n",
              "    }\n",
              "\n",
              "    .dataframe tbody tr th {\n",
              "        vertical-align: top;\n",
              "    }\n",
              "\n",
              "    .dataframe thead th {\n",
              "        text-align: right;\n",
              "    }\n",
              "</style>\n",
              "<table border=\"1\" class=\"dataframe\">\n",
              "  <thead>\n",
              "    <tr style=\"text-align: right;\">\n",
              "      <th></th>\n",
              "      <th>winery</th>\n",
              "      <th>wine</th>\n",
              "      <th>year</th>\n",
              "      <th>rating</th>\n",
              "      <th>num_reviews</th>\n",
              "      <th>country</th>\n",
              "      <th>region</th>\n",
              "      <th>price</th>\n",
              "      <th>type</th>\n",
              "      <th>body</th>\n",
              "      <th>acidity</th>\n",
              "    </tr>\n",
              "  </thead>\n",
              "  <tbody>\n",
              "    <tr>\n",
              "      <th>0</th>\n",
              "      <td>Teso La Monja</td>\n",
              "      <td>Tinto</td>\n",
              "      <td>2013</td>\n",
              "      <td>4.9</td>\n",
              "      <td>58</td>\n",
              "      <td>Espana</td>\n",
              "      <td>Toro</td>\n",
              "      <td>995.00</td>\n",
              "      <td>Toro Red</td>\n",
              "      <td>5.0</td>\n",
              "      <td>3.0</td>\n",
              "    </tr>\n",
              "    <tr>\n",
              "      <th>1</th>\n",
              "      <td>Artadi</td>\n",
              "      <td>Vina El Pison</td>\n",
              "      <td>2018</td>\n",
              "      <td>4.9</td>\n",
              "      <td>31</td>\n",
              "      <td>Espana</td>\n",
              "      <td>Vino de Espana</td>\n",
              "      <td>313.50</td>\n",
              "      <td>Tempranillo</td>\n",
              "      <td>4.0</td>\n",
              "      <td>2.0</td>\n",
              "    </tr>\n",
              "    <tr>\n",
              "      <th>2</th>\n",
              "      <td>Vega Sicilia</td>\n",
              "      <td>Unico</td>\n",
              "      <td>2009</td>\n",
              "      <td>4.8</td>\n",
              "      <td>1793</td>\n",
              "      <td>Espana</td>\n",
              "      <td>Ribera del Duero</td>\n",
              "      <td>324.95</td>\n",
              "      <td>Ribera Del Duero Red</td>\n",
              "      <td>5.0</td>\n",
              "      <td>3.0</td>\n",
              "    </tr>\n",
              "    <tr>\n",
              "      <th>3</th>\n",
              "      <td>Vega Sicilia</td>\n",
              "      <td>Unico</td>\n",
              "      <td>1999</td>\n",
              "      <td>4.8</td>\n",
              "      <td>1705</td>\n",
              "      <td>Espana</td>\n",
              "      <td>Ribera del Duero</td>\n",
              "      <td>692.96</td>\n",
              "      <td>Ribera Del Duero Red</td>\n",
              "      <td>5.0</td>\n",
              "      <td>3.0</td>\n",
              "    </tr>\n",
              "    <tr>\n",
              "      <th>4</th>\n",
              "      <td>Vega Sicilia</td>\n",
              "      <td>Unico</td>\n",
              "      <td>1996</td>\n",
              "      <td>4.8</td>\n",
              "      <td>1309</td>\n",
              "      <td>Espana</td>\n",
              "      <td>Ribera del Duero</td>\n",
              "      <td>778.06</td>\n",
              "      <td>Ribera Del Duero Red</td>\n",
              "      <td>5.0</td>\n",
              "      <td>3.0</td>\n",
              "    </tr>\n",
              "  </tbody>\n",
              "</table>\n",
              "</div>\n",
              "      <button class=\"colab-df-convert\" onclick=\"convertToInteractive('df-406591b5-5e15-4f39-a1cf-c4c11765af87')\"\n",
              "              title=\"Convert this dataframe to an interactive table.\"\n",
              "              style=\"display:none;\">\n",
              "        \n",
              "  <svg xmlns=\"http://www.w3.org/2000/svg\" height=\"24px\"viewBox=\"0 0 24 24\"\n",
              "       width=\"24px\">\n",
              "    <path d=\"M0 0h24v24H0V0z\" fill=\"none\"/>\n",
              "    <path d=\"M18.56 5.44l.94 2.06.94-2.06 2.06-.94-2.06-.94-.94-2.06-.94 2.06-2.06.94zm-11 1L8.5 8.5l.94-2.06 2.06-.94-2.06-.94L8.5 2.5l-.94 2.06-2.06.94zm10 10l.94 2.06.94-2.06 2.06-.94-2.06-.94-.94-2.06-.94 2.06-2.06.94z\"/><path d=\"M17.41 7.96l-1.37-1.37c-.4-.4-.92-.59-1.43-.59-.52 0-1.04.2-1.43.59L10.3 9.45l-7.72 7.72c-.78.78-.78 2.05 0 2.83L4 21.41c.39.39.9.59 1.41.59.51 0 1.02-.2 1.41-.59l7.78-7.78 2.81-2.81c.8-.78.8-2.07 0-2.86zM5.41 20L4 18.59l7.72-7.72 1.47 1.35L5.41 20z\"/>\n",
              "  </svg>\n",
              "      </button>\n",
              "      \n",
              "  <style>\n",
              "    .colab-df-container {\n",
              "      display:flex;\n",
              "      flex-wrap:wrap;\n",
              "      gap: 12px;\n",
              "    }\n",
              "\n",
              "    .colab-df-convert {\n",
              "      background-color: #E8F0FE;\n",
              "      border: none;\n",
              "      border-radius: 50%;\n",
              "      cursor: pointer;\n",
              "      display: none;\n",
              "      fill: #1967D2;\n",
              "      height: 32px;\n",
              "      padding: 0 0 0 0;\n",
              "      width: 32px;\n",
              "    }\n",
              "\n",
              "    .colab-df-convert:hover {\n",
              "      background-color: #E2EBFA;\n",
              "      box-shadow: 0px 1px 2px rgba(60, 64, 67, 0.3), 0px 1px 3px 1px rgba(60, 64, 67, 0.15);\n",
              "      fill: #174EA6;\n",
              "    }\n",
              "\n",
              "    [theme=dark] .colab-df-convert {\n",
              "      background-color: #3B4455;\n",
              "      fill: #D2E3FC;\n",
              "    }\n",
              "\n",
              "    [theme=dark] .colab-df-convert:hover {\n",
              "      background-color: #434B5C;\n",
              "      box-shadow: 0px 1px 3px 1px rgba(0, 0, 0, 0.15);\n",
              "      filter: drop-shadow(0px 1px 2px rgba(0, 0, 0, 0.3));\n",
              "      fill: #FFFFFF;\n",
              "    }\n",
              "  </style>\n",
              "\n",
              "      <script>\n",
              "        const buttonEl =\n",
              "          document.querySelector('#df-406591b5-5e15-4f39-a1cf-c4c11765af87 button.colab-df-convert');\n",
              "        buttonEl.style.display =\n",
              "          google.colab.kernel.accessAllowed ? 'block' : 'none';\n",
              "\n",
              "        async function convertToInteractive(key) {\n",
              "          const element = document.querySelector('#df-406591b5-5e15-4f39-a1cf-c4c11765af87');\n",
              "          const dataTable =\n",
              "            await google.colab.kernel.invokeFunction('convertToInteractive',\n",
              "                                                     [key], {});\n",
              "          if (!dataTable) return;\n",
              "\n",
              "          const docLinkHtml = 'Like what you see? Visit the ' +\n",
              "            '<a target=\"_blank\" href=https://colab.research.google.com/notebooks/data_table.ipynb>data table notebook</a>'\n",
              "            + ' to learn more about interactive tables.';\n",
              "          element.innerHTML = '';\n",
              "          dataTable['output_type'] = 'display_data';\n",
              "          await google.colab.output.renderOutput(dataTable, element);\n",
              "          const docLink = document.createElement('div');\n",
              "          docLink.innerHTML = docLinkHtml;\n",
              "          element.appendChild(docLink);\n",
              "        }\n",
              "      </script>\n",
              "    </div>\n",
              "  </div>\n",
              "  "
            ]
          },
          "metadata": {},
          "execution_count": 3
        }
      ],
      "source": [
        "filename = '/content/drive/MyDrive/Coding Dojo/Project 2/wines_SPA.csv'\n",
        "df = pd.read_csv(filename)\n",
        "df.head()"
      ]
    },
    {
      "cell_type": "code",
      "execution_count": 4,
      "metadata": {
        "id": "mSLzP4JftQHd"
      },
      "outputs": [],
      "source": [
        "dfc = df.copy()"
      ]
    },
    {
      "cell_type": "markdown",
      "metadata": {
        "id": "KwRe03frhwwK"
      },
      "source": [
        "##Delete unnecessary columns.\n"
      ]
    },
    {
      "cell_type": "code",
      "execution_count": 5,
      "metadata": {
        "colab": {
          "base_uri": "https://localhost:8080/"
        },
        "id": "Vffv7ysJu5H7",
        "outputId": "17f6f09c-e841-42c1-d8fa-9591f047926f"
      },
      "outputs": [
        {
          "output_type": "execute_result",
          "data": {
            "text/plain": [
              "Espana    7500\n",
              "Name: country, dtype: int64"
            ]
          },
          "metadata": {},
          "execution_count": 5
        }
      ],
      "source": [
        "dfc['country'].value_counts()"
      ]
    },
    {
      "cell_type": "code",
      "execution_count": 6,
      "metadata": {
        "colab": {
          "base_uri": "https://localhost:8080/"
        },
        "id": "8LAID0aa2tLV",
        "outputId": "b6f0b28e-bf1b-4ca5-c597-3b9dce6cce00"
      },
      "outputs": [
        {
          "output_type": "execute_result",
          "data": {
            "text/plain": [
              "480"
            ]
          },
          "metadata": {},
          "execution_count": 6
        }
      ],
      "source": [
        "dfc['winery'].nunique()"
      ]
    },
    {
      "cell_type": "markdown",
      "metadata": {
        "id": "BsJ2uFr4u_Ni"
      },
      "source": [
        "> Since the data is strictly for red wine in Spain, this column is unnecessary.\n",
        "\n",
        ">The number of reviews is also not a defining feature of the actual wine itself and will be dropped.\n",
        "\n",
        ">Dropping Winery because this may cause overfitting"
      ]
    },
    {
      "cell_type": "code",
      "execution_count": 7,
      "metadata": {
        "id": "haft4gXhv7jR"
      },
      "outputs": [],
      "source": [
        "dfc.drop(columns = {'country','num_reviews','winery'},inplace = True)"
      ]
    },
    {
      "cell_type": "code",
      "execution_count": 8,
      "metadata": {
        "colab": {
          "base_uri": "https://localhost:8080/",
          "height": 204
        },
        "id": "pNJOgYoA2le3",
        "outputId": "9ba5e35d-bf65-47b6-bb53-2e6768e98479"
      },
      "outputs": [
        {
          "output_type": "execute_result",
          "data": {
            "text/plain": [
              "            wine  year  rating            region   price  \\\n",
              "0          Tinto  2013     4.9              Toro  995.00   \n",
              "1  Vina El Pison  2018     4.9    Vino de Espana  313.50   \n",
              "2          Unico  2009     4.8  Ribera del Duero  324.95   \n",
              "3          Unico  1999     4.8  Ribera del Duero  692.96   \n",
              "4          Unico  1996     4.8  Ribera del Duero  778.06   \n",
              "\n",
              "                   type  body  acidity  \n",
              "0              Toro Red   5.0      3.0  \n",
              "1           Tempranillo   4.0      2.0  \n",
              "2  Ribera Del Duero Red   5.0      3.0  \n",
              "3  Ribera Del Duero Red   5.0      3.0  \n",
              "4  Ribera Del Duero Red   5.0      3.0  "
            ],
            "text/html": [
              "\n",
              "  <div id=\"df-fd350488-bf97-434f-9ec3-74b05aea1ba4\">\n",
              "    <div class=\"colab-df-container\">\n",
              "      <div>\n",
              "<style scoped>\n",
              "    .dataframe tbody tr th:only-of-type {\n",
              "        vertical-align: middle;\n",
              "    }\n",
              "\n",
              "    .dataframe tbody tr th {\n",
              "        vertical-align: top;\n",
              "    }\n",
              "\n",
              "    .dataframe thead th {\n",
              "        text-align: right;\n",
              "    }\n",
              "</style>\n",
              "<table border=\"1\" class=\"dataframe\">\n",
              "  <thead>\n",
              "    <tr style=\"text-align: right;\">\n",
              "      <th></th>\n",
              "      <th>wine</th>\n",
              "      <th>year</th>\n",
              "      <th>rating</th>\n",
              "      <th>region</th>\n",
              "      <th>price</th>\n",
              "      <th>type</th>\n",
              "      <th>body</th>\n",
              "      <th>acidity</th>\n",
              "    </tr>\n",
              "  </thead>\n",
              "  <tbody>\n",
              "    <tr>\n",
              "      <th>0</th>\n",
              "      <td>Tinto</td>\n",
              "      <td>2013</td>\n",
              "      <td>4.9</td>\n",
              "      <td>Toro</td>\n",
              "      <td>995.00</td>\n",
              "      <td>Toro Red</td>\n",
              "      <td>5.0</td>\n",
              "      <td>3.0</td>\n",
              "    </tr>\n",
              "    <tr>\n",
              "      <th>1</th>\n",
              "      <td>Vina El Pison</td>\n",
              "      <td>2018</td>\n",
              "      <td>4.9</td>\n",
              "      <td>Vino de Espana</td>\n",
              "      <td>313.50</td>\n",
              "      <td>Tempranillo</td>\n",
              "      <td>4.0</td>\n",
              "      <td>2.0</td>\n",
              "    </tr>\n",
              "    <tr>\n",
              "      <th>2</th>\n",
              "      <td>Unico</td>\n",
              "      <td>2009</td>\n",
              "      <td>4.8</td>\n",
              "      <td>Ribera del Duero</td>\n",
              "      <td>324.95</td>\n",
              "      <td>Ribera Del Duero Red</td>\n",
              "      <td>5.0</td>\n",
              "      <td>3.0</td>\n",
              "    </tr>\n",
              "    <tr>\n",
              "      <th>3</th>\n",
              "      <td>Unico</td>\n",
              "      <td>1999</td>\n",
              "      <td>4.8</td>\n",
              "      <td>Ribera del Duero</td>\n",
              "      <td>692.96</td>\n",
              "      <td>Ribera Del Duero Red</td>\n",
              "      <td>5.0</td>\n",
              "      <td>3.0</td>\n",
              "    </tr>\n",
              "    <tr>\n",
              "      <th>4</th>\n",
              "      <td>Unico</td>\n",
              "      <td>1996</td>\n",
              "      <td>4.8</td>\n",
              "      <td>Ribera del Duero</td>\n",
              "      <td>778.06</td>\n",
              "      <td>Ribera Del Duero Red</td>\n",
              "      <td>5.0</td>\n",
              "      <td>3.0</td>\n",
              "    </tr>\n",
              "  </tbody>\n",
              "</table>\n",
              "</div>\n",
              "      <button class=\"colab-df-convert\" onclick=\"convertToInteractive('df-fd350488-bf97-434f-9ec3-74b05aea1ba4')\"\n",
              "              title=\"Convert this dataframe to an interactive table.\"\n",
              "              style=\"display:none;\">\n",
              "        \n",
              "  <svg xmlns=\"http://www.w3.org/2000/svg\" height=\"24px\"viewBox=\"0 0 24 24\"\n",
              "       width=\"24px\">\n",
              "    <path d=\"M0 0h24v24H0V0z\" fill=\"none\"/>\n",
              "    <path d=\"M18.56 5.44l.94 2.06.94-2.06 2.06-.94-2.06-.94-.94-2.06-.94 2.06-2.06.94zm-11 1L8.5 8.5l.94-2.06 2.06-.94-2.06-.94L8.5 2.5l-.94 2.06-2.06.94zm10 10l.94 2.06.94-2.06 2.06-.94-2.06-.94-.94-2.06-.94 2.06-2.06.94z\"/><path d=\"M17.41 7.96l-1.37-1.37c-.4-.4-.92-.59-1.43-.59-.52 0-1.04.2-1.43.59L10.3 9.45l-7.72 7.72c-.78.78-.78 2.05 0 2.83L4 21.41c.39.39.9.59 1.41.59.51 0 1.02-.2 1.41-.59l7.78-7.78 2.81-2.81c.8-.78.8-2.07 0-2.86zM5.41 20L4 18.59l7.72-7.72 1.47 1.35L5.41 20z\"/>\n",
              "  </svg>\n",
              "      </button>\n",
              "      \n",
              "  <style>\n",
              "    .colab-df-container {\n",
              "      display:flex;\n",
              "      flex-wrap:wrap;\n",
              "      gap: 12px;\n",
              "    }\n",
              "\n",
              "    .colab-df-convert {\n",
              "      background-color: #E8F0FE;\n",
              "      border: none;\n",
              "      border-radius: 50%;\n",
              "      cursor: pointer;\n",
              "      display: none;\n",
              "      fill: #1967D2;\n",
              "      height: 32px;\n",
              "      padding: 0 0 0 0;\n",
              "      width: 32px;\n",
              "    }\n",
              "\n",
              "    .colab-df-convert:hover {\n",
              "      background-color: #E2EBFA;\n",
              "      box-shadow: 0px 1px 2px rgba(60, 64, 67, 0.3), 0px 1px 3px 1px rgba(60, 64, 67, 0.15);\n",
              "      fill: #174EA6;\n",
              "    }\n",
              "\n",
              "    [theme=dark] .colab-df-convert {\n",
              "      background-color: #3B4455;\n",
              "      fill: #D2E3FC;\n",
              "    }\n",
              "\n",
              "    [theme=dark] .colab-df-convert:hover {\n",
              "      background-color: #434B5C;\n",
              "      box-shadow: 0px 1px 3px 1px rgba(0, 0, 0, 0.15);\n",
              "      filter: drop-shadow(0px 1px 2px rgba(0, 0, 0, 0.3));\n",
              "      fill: #FFFFFF;\n",
              "    }\n",
              "  </style>\n",
              "\n",
              "      <script>\n",
              "        const buttonEl =\n",
              "          document.querySelector('#df-fd350488-bf97-434f-9ec3-74b05aea1ba4 button.colab-df-convert');\n",
              "        buttonEl.style.display =\n",
              "          google.colab.kernel.accessAllowed ? 'block' : 'none';\n",
              "\n",
              "        async function convertToInteractive(key) {\n",
              "          const element = document.querySelector('#df-fd350488-bf97-434f-9ec3-74b05aea1ba4');\n",
              "          const dataTable =\n",
              "            await google.colab.kernel.invokeFunction('convertToInteractive',\n",
              "                                                     [key], {});\n",
              "          if (!dataTable) return;\n",
              "\n",
              "          const docLinkHtml = 'Like what you see? Visit the ' +\n",
              "            '<a target=\"_blank\" href=https://colab.research.google.com/notebooks/data_table.ipynb>data table notebook</a>'\n",
              "            + ' to learn more about interactive tables.';\n",
              "          element.innerHTML = '';\n",
              "          dataTable['output_type'] = 'display_data';\n",
              "          await google.colab.output.renderOutput(dataTable, element);\n",
              "          const docLink = document.createElement('div');\n",
              "          docLink.innerHTML = docLinkHtml;\n",
              "          element.appendChild(docLink);\n",
              "        }\n",
              "      </script>\n",
              "    </div>\n",
              "  </div>\n",
              "  "
            ]
          },
          "metadata": {},
          "execution_count": 8
        }
      ],
      "source": [
        "dfc.head()"
      ]
    },
    {
      "cell_type": "markdown",
      "metadata": {
        "id": "dlbEJWt9hNAd"
      },
      "source": [
        "##Deleted duplicate rows."
      ]
    },
    {
      "cell_type": "code",
      "execution_count": 9,
      "metadata": {
        "colab": {
          "base_uri": "https://localhost:8080/"
        },
        "id": "-IMmiYQYy4mN",
        "outputId": "0cfc96d9-4526-4767-9111-0c69f8593ba0"
      },
      "outputs": [
        {
          "output_type": "execute_result",
          "data": {
            "text/plain": [
              "5453"
            ]
          },
          "metadata": {},
          "execution_count": 9
        }
      ],
      "source": [
        "dfc.duplicated().sum()"
      ]
    },
    {
      "cell_type": "code",
      "execution_count": 10,
      "metadata": {
        "colab": {
          "base_uri": "https://localhost:8080/"
        },
        "id": "CD2-9XIGy8Op",
        "outputId": "efe99df7-e7ab-48ff-ee83-76361a76e1a4"
      },
      "outputs": [
        {
          "output_type": "execute_result",
          "data": {
            "text/plain": [
              "0"
            ]
          },
          "metadata": {},
          "execution_count": 10
        }
      ],
      "source": [
        "dfc.drop_duplicates(inplace = True)\n",
        "dfc.duplicated().sum()"
      ]
    },
    {
      "cell_type": "code",
      "execution_count": 11,
      "metadata": {
        "colab": {
          "base_uri": "https://localhost:8080/"
        },
        "id": "Y5M7Ka--8i9Q",
        "outputId": "c5fe35bf-7b99-4b20-94e1-5d349b252491"
      },
      "outputs": [
        {
          "output_type": "execute_result",
          "data": {
            "text/plain": [
              "(2047, 8)"
            ]
          },
          "metadata": {},
          "execution_count": 11
        }
      ],
      "source": [
        "dfc.shape"
      ]
    },
    {
      "cell_type": "markdown",
      "metadata": {
        "id": "h94LaSre9LpL"
      },
      "source": [
        "> Even after removing the duplicated data there are still 2047 instances of data and 8 columns of features."
      ]
    },
    {
      "cell_type": "markdown",
      "metadata": {
        "id": "_5pDQJZehgyU"
      },
      "source": [
        "##Identified and addressed missing values.\n"
      ]
    },
    {
      "cell_type": "code",
      "execution_count": 12,
      "metadata": {
        "colab": {
          "base_uri": "https://localhost:8080/"
        },
        "id": "oCwfQn5Z6TGk",
        "outputId": "323e1762-175b-439f-804d-d338a924860f"
      },
      "outputs": [
        {
          "output_type": "execute_result",
          "data": {
            "text/plain": [
              "wine         0\n",
              "year         2\n",
              "rating       0\n",
              "region       0\n",
              "price        0\n",
              "type       106\n",
              "body       271\n",
              "acidity    271\n",
              "dtype: int64"
            ]
          },
          "metadata": {},
          "execution_count": 12
        }
      ],
      "source": [
        "dfc.isna().sum()"
      ]
    },
    {
      "cell_type": "markdown",
      "metadata": {
        "id": "1r0R7qbx3kLn"
      },
      "source": [
        "> Columns year, type, body, and acidity has missing values."
      ]
    },
    {
      "cell_type": "code",
      "execution_count": 13,
      "metadata": {
        "colab": {
          "base_uri": "https://localhost:8080/"
        },
        "id": "OhwKenSs4ITW",
        "outputId": "f3a5815c-c00e-4f2f-d511-65bb9cc7d288"
      },
      "outputs": [
        {
          "output_type": "stream",
          "name": "stdout",
          "text": [
            "Body and Acidity are missing 13.23% of their data.\n"
          ]
        }
      ],
      "source": [
        "print(f'Body and Acidity are missing {round((271/2048*100),2)}% of their data.')"
      ]
    },
    {
      "cell_type": "markdown",
      "metadata": {
        "id": "d0VB8sSM9lu3"
      },
      "source": [
        "###Check if  year can be manually updated."
      ]
    },
    {
      "cell_type": "code",
      "execution_count": 14,
      "metadata": {
        "colab": {
          "base_uri": "https://localhost:8080/",
          "height": 111
        },
        "id": "e9Bntgwh5u1X",
        "outputId": "88cb75a7-c3de-449b-c7ef-1c18b3de1361"
      },
      "outputs": [
        {
          "output_type": "execute_result",
          "data": {
            "text/plain": [
              "                               wine year  rating            region  price  \\\n",
              "46   Unico Reserva Especial Edicion  NaN     4.7  Ribera del Duero  423.5   \n",
              "851                  Fourth Edition  NaN     4.4    Vino de Espana   40.0   \n",
              "\n",
              "                     type  body  acidity  \n",
              "46   Ribera Del Duero Red   5.0      3.0  \n",
              "851           Tempranillo   4.0      2.0  "
            ],
            "text/html": [
              "\n",
              "  <div id=\"df-c6482bf9-437f-4fbb-bd2f-344539816565\">\n",
              "    <div class=\"colab-df-container\">\n",
              "      <div>\n",
              "<style scoped>\n",
              "    .dataframe tbody tr th:only-of-type {\n",
              "        vertical-align: middle;\n",
              "    }\n",
              "\n",
              "    .dataframe tbody tr th {\n",
              "        vertical-align: top;\n",
              "    }\n",
              "\n",
              "    .dataframe thead th {\n",
              "        text-align: right;\n",
              "    }\n",
              "</style>\n",
              "<table border=\"1\" class=\"dataframe\">\n",
              "  <thead>\n",
              "    <tr style=\"text-align: right;\">\n",
              "      <th></th>\n",
              "      <th>wine</th>\n",
              "      <th>year</th>\n",
              "      <th>rating</th>\n",
              "      <th>region</th>\n",
              "      <th>price</th>\n",
              "      <th>type</th>\n",
              "      <th>body</th>\n",
              "      <th>acidity</th>\n",
              "    </tr>\n",
              "  </thead>\n",
              "  <tbody>\n",
              "    <tr>\n",
              "      <th>46</th>\n",
              "      <td>Unico Reserva Especial Edicion</td>\n",
              "      <td>NaN</td>\n",
              "      <td>4.7</td>\n",
              "      <td>Ribera del Duero</td>\n",
              "      <td>423.5</td>\n",
              "      <td>Ribera Del Duero Red</td>\n",
              "      <td>5.0</td>\n",
              "      <td>3.0</td>\n",
              "    </tr>\n",
              "    <tr>\n",
              "      <th>851</th>\n",
              "      <td>Fourth Edition</td>\n",
              "      <td>NaN</td>\n",
              "      <td>4.4</td>\n",
              "      <td>Vino de Espana</td>\n",
              "      <td>40.0</td>\n",
              "      <td>Tempranillo</td>\n",
              "      <td>4.0</td>\n",
              "      <td>2.0</td>\n",
              "    </tr>\n",
              "  </tbody>\n",
              "</table>\n",
              "</div>\n",
              "      <button class=\"colab-df-convert\" onclick=\"convertToInteractive('df-c6482bf9-437f-4fbb-bd2f-344539816565')\"\n",
              "              title=\"Convert this dataframe to an interactive table.\"\n",
              "              style=\"display:none;\">\n",
              "        \n",
              "  <svg xmlns=\"http://www.w3.org/2000/svg\" height=\"24px\"viewBox=\"0 0 24 24\"\n",
              "       width=\"24px\">\n",
              "    <path d=\"M0 0h24v24H0V0z\" fill=\"none\"/>\n",
              "    <path d=\"M18.56 5.44l.94 2.06.94-2.06 2.06-.94-2.06-.94-.94-2.06-.94 2.06-2.06.94zm-11 1L8.5 8.5l.94-2.06 2.06-.94-2.06-.94L8.5 2.5l-.94 2.06-2.06.94zm10 10l.94 2.06.94-2.06 2.06-.94-2.06-.94-.94-2.06-.94 2.06-2.06.94z\"/><path d=\"M17.41 7.96l-1.37-1.37c-.4-.4-.92-.59-1.43-.59-.52 0-1.04.2-1.43.59L10.3 9.45l-7.72 7.72c-.78.78-.78 2.05 0 2.83L4 21.41c.39.39.9.59 1.41.59.51 0 1.02-.2 1.41-.59l7.78-7.78 2.81-2.81c.8-.78.8-2.07 0-2.86zM5.41 20L4 18.59l7.72-7.72 1.47 1.35L5.41 20z\"/>\n",
              "  </svg>\n",
              "      </button>\n",
              "      \n",
              "  <style>\n",
              "    .colab-df-container {\n",
              "      display:flex;\n",
              "      flex-wrap:wrap;\n",
              "      gap: 12px;\n",
              "    }\n",
              "\n",
              "    .colab-df-convert {\n",
              "      background-color: #E8F0FE;\n",
              "      border: none;\n",
              "      border-radius: 50%;\n",
              "      cursor: pointer;\n",
              "      display: none;\n",
              "      fill: #1967D2;\n",
              "      height: 32px;\n",
              "      padding: 0 0 0 0;\n",
              "      width: 32px;\n",
              "    }\n",
              "\n",
              "    .colab-df-convert:hover {\n",
              "      background-color: #E2EBFA;\n",
              "      box-shadow: 0px 1px 2px rgba(60, 64, 67, 0.3), 0px 1px 3px 1px rgba(60, 64, 67, 0.15);\n",
              "      fill: #174EA6;\n",
              "    }\n",
              "\n",
              "    [theme=dark] .colab-df-convert {\n",
              "      background-color: #3B4455;\n",
              "      fill: #D2E3FC;\n",
              "    }\n",
              "\n",
              "    [theme=dark] .colab-df-convert:hover {\n",
              "      background-color: #434B5C;\n",
              "      box-shadow: 0px 1px 3px 1px rgba(0, 0, 0, 0.15);\n",
              "      filter: drop-shadow(0px 1px 2px rgba(0, 0, 0, 0.3));\n",
              "      fill: #FFFFFF;\n",
              "    }\n",
              "  </style>\n",
              "\n",
              "      <script>\n",
              "        const buttonEl =\n",
              "          document.querySelector('#df-c6482bf9-437f-4fbb-bd2f-344539816565 button.colab-df-convert');\n",
              "        buttonEl.style.display =\n",
              "          google.colab.kernel.accessAllowed ? 'block' : 'none';\n",
              "\n",
              "        async function convertToInteractive(key) {\n",
              "          const element = document.querySelector('#df-c6482bf9-437f-4fbb-bd2f-344539816565');\n",
              "          const dataTable =\n",
              "            await google.colab.kernel.invokeFunction('convertToInteractive',\n",
              "                                                     [key], {});\n",
              "          if (!dataTable) return;\n",
              "\n",
              "          const docLinkHtml = 'Like what you see? Visit the ' +\n",
              "            '<a target=\"_blank\" href=https://colab.research.google.com/notebooks/data_table.ipynb>data table notebook</a>'\n",
              "            + ' to learn more about interactive tables.';\n",
              "          element.innerHTML = '';\n",
              "          dataTable['output_type'] = 'display_data';\n",
              "          await google.colab.output.renderOutput(dataTable, element);\n",
              "          const docLink = document.createElement('div');\n",
              "          docLink.innerHTML = docLinkHtml;\n",
              "          element.appendChild(docLink);\n",
              "        }\n",
              "      </script>\n",
              "    </div>\n",
              "  </div>\n",
              "  "
            ]
          },
          "metadata": {},
          "execution_count": 14
        }
      ],
      "source": [
        "dfc.loc[dfc['year'].isna()]"
      ]
    },
    {
      "cell_type": "code",
      "execution_count": 15,
      "metadata": {
        "colab": {
          "base_uri": "https://localhost:8080/",
          "height": 793
        },
        "id": "kuZKg5hR6Zkj",
        "outputId": "db62c90c-17ae-4097-f360-5d89fa48be06"
      },
      "outputs": [
        {
          "output_type": "execute_result",
          "data": {
            "text/plain": [
              "                               wine  year  rating            region    price  \\\n",
              "314  Unico Reserva Especial Edicion  1982     4.6  Ribera del Duero  1238.43   \n",
              "31   Unico Reserva Especial Edicion  1985     4.8  Ribera del Duero  1182.77   \n",
              "130  Unico Reserva Especial Edicion  1986     4.7  Ribera del Duero  1113.20   \n",
              "118  Unico Reserva Especial Edicion  1987     4.7  Ribera del Duero  1071.45   \n",
              "226  Unico Reserva Especial Edicion  1989     4.6  Ribera del Duero   895.40   \n",
              "97   Unico Reserva Especial Edicion  1995     4.7  Ribera del Duero  1500.00   \n",
              "72   Unico Reserva Especial Edicion  1996     4.7  Ribera del Duero   290.00   \n",
              "63   Unico Reserva Especial Edicion  2000     4.7  Ribera del Duero   877.85   \n",
              "19   Unico Reserva Especial Edicion  2004     4.8  Ribera del Duero   824.43   \n",
              "28   Unico Reserva Especial Edicion  2005     4.8  Ribera del Duero   813.96   \n",
              "126  Unico Reserva Especial Edicion  2006     4.7  Ribera del Duero   813.96   \n",
              "78   Unico Reserva Especial Edicion  2007     4.7  Ribera del Duero   774.40   \n",
              "243  Unico Reserva Especial Edicion  2009     4.6  Ribera del Duero   747.17   \n",
              "24   Unico Reserva Especial Edicion  2010     4.8  Ribera del Duero   719.34   \n",
              "107  Unico Reserva Especial Edicion  2011     4.7  Ribera del Duero   340.49   \n",
              "102  Unico Reserva Especial Edicion  2012     4.7  Ribera del Duero   660.96   \n",
              "21   Unico Reserva Especial Edicion  2013     4.8  Ribera del Duero   570.51   \n",
              "8    Unico Reserva Especial Edicion  2015     4.8  Ribera del Duero   345.00   \n",
              "10   Unico Reserva Especial Edicion  2016     4.8  Ribera del Duero   514.85   \n",
              "68   Unico Reserva Especial Edicion  2017     4.7  Ribera del Duero   480.06   \n",
              "12   Unico Reserva Especial Edicion  2018     4.8  Ribera del Duero   430.00   \n",
              "17   Unico Reserva Especial Edicion  2019     4.8  Ribera del Duero   431.36   \n",
              "29   Unico Reserva Especial Edicion  2020     4.8  Ribera del Duero   435.75   \n",
              "46   Unico Reserva Especial Edicion   NaN     4.7  Ribera del Duero   423.50   \n",
              "\n",
              "                     type  body  acidity  \n",
              "314  Ribera Del Duero Red   5.0      3.0  \n",
              "31   Ribera Del Duero Red   5.0      3.0  \n",
              "130  Ribera Del Duero Red   5.0      3.0  \n",
              "118  Ribera Del Duero Red   5.0      3.0  \n",
              "226  Ribera Del Duero Red   5.0      3.0  \n",
              "97   Ribera Del Duero Red   5.0      3.0  \n",
              "72   Ribera Del Duero Red   5.0      3.0  \n",
              "63   Ribera Del Duero Red   5.0      3.0  \n",
              "19   Ribera Del Duero Red   5.0      3.0  \n",
              "28   Ribera Del Duero Red   5.0      3.0  \n",
              "126  Ribera Del Duero Red   5.0      3.0  \n",
              "78   Ribera Del Duero Red   5.0      3.0  \n",
              "243  Ribera Del Duero Red   5.0      3.0  \n",
              "24   Ribera Del Duero Red   5.0      3.0  \n",
              "107  Ribera Del Duero Red   5.0      3.0  \n",
              "102  Ribera Del Duero Red   5.0      3.0  \n",
              "21   Ribera Del Duero Red   5.0      3.0  \n",
              "8    Ribera Del Duero Red   5.0      3.0  \n",
              "10   Ribera Del Duero Red   5.0      3.0  \n",
              "68   Ribera Del Duero Red   5.0      3.0  \n",
              "12   Ribera Del Duero Red   5.0      3.0  \n",
              "17   Ribera Del Duero Red   5.0      3.0  \n",
              "29   Ribera Del Duero Red   5.0      3.0  \n",
              "46   Ribera Del Duero Red   5.0      3.0  "
            ],
            "text/html": [
              "\n",
              "  <div id=\"df-f679cdec-72ca-435c-9c23-4eba3aac075c\">\n",
              "    <div class=\"colab-df-container\">\n",
              "      <div>\n",
              "<style scoped>\n",
              "    .dataframe tbody tr th:only-of-type {\n",
              "        vertical-align: middle;\n",
              "    }\n",
              "\n",
              "    .dataframe tbody tr th {\n",
              "        vertical-align: top;\n",
              "    }\n",
              "\n",
              "    .dataframe thead th {\n",
              "        text-align: right;\n",
              "    }\n",
              "</style>\n",
              "<table border=\"1\" class=\"dataframe\">\n",
              "  <thead>\n",
              "    <tr style=\"text-align: right;\">\n",
              "      <th></th>\n",
              "      <th>wine</th>\n",
              "      <th>year</th>\n",
              "      <th>rating</th>\n",
              "      <th>region</th>\n",
              "      <th>price</th>\n",
              "      <th>type</th>\n",
              "      <th>body</th>\n",
              "      <th>acidity</th>\n",
              "    </tr>\n",
              "  </thead>\n",
              "  <tbody>\n",
              "    <tr>\n",
              "      <th>314</th>\n",
              "      <td>Unico Reserva Especial Edicion</td>\n",
              "      <td>1982</td>\n",
              "      <td>4.6</td>\n",
              "      <td>Ribera del Duero</td>\n",
              "      <td>1238.43</td>\n",
              "      <td>Ribera Del Duero Red</td>\n",
              "      <td>5.0</td>\n",
              "      <td>3.0</td>\n",
              "    </tr>\n",
              "    <tr>\n",
              "      <th>31</th>\n",
              "      <td>Unico Reserva Especial Edicion</td>\n",
              "      <td>1985</td>\n",
              "      <td>4.8</td>\n",
              "      <td>Ribera del Duero</td>\n",
              "      <td>1182.77</td>\n",
              "      <td>Ribera Del Duero Red</td>\n",
              "      <td>5.0</td>\n",
              "      <td>3.0</td>\n",
              "    </tr>\n",
              "    <tr>\n",
              "      <th>130</th>\n",
              "      <td>Unico Reserva Especial Edicion</td>\n",
              "      <td>1986</td>\n",
              "      <td>4.7</td>\n",
              "      <td>Ribera del Duero</td>\n",
              "      <td>1113.20</td>\n",
              "      <td>Ribera Del Duero Red</td>\n",
              "      <td>5.0</td>\n",
              "      <td>3.0</td>\n",
              "    </tr>\n",
              "    <tr>\n",
              "      <th>118</th>\n",
              "      <td>Unico Reserva Especial Edicion</td>\n",
              "      <td>1987</td>\n",
              "      <td>4.7</td>\n",
              "      <td>Ribera del Duero</td>\n",
              "      <td>1071.45</td>\n",
              "      <td>Ribera Del Duero Red</td>\n",
              "      <td>5.0</td>\n",
              "      <td>3.0</td>\n",
              "    </tr>\n",
              "    <tr>\n",
              "      <th>226</th>\n",
              "      <td>Unico Reserva Especial Edicion</td>\n",
              "      <td>1989</td>\n",
              "      <td>4.6</td>\n",
              "      <td>Ribera del Duero</td>\n",
              "      <td>895.40</td>\n",
              "      <td>Ribera Del Duero Red</td>\n",
              "      <td>5.0</td>\n",
              "      <td>3.0</td>\n",
              "    </tr>\n",
              "    <tr>\n",
              "      <th>97</th>\n",
              "      <td>Unico Reserva Especial Edicion</td>\n",
              "      <td>1995</td>\n",
              "      <td>4.7</td>\n",
              "      <td>Ribera del Duero</td>\n",
              "      <td>1500.00</td>\n",
              "      <td>Ribera Del Duero Red</td>\n",
              "      <td>5.0</td>\n",
              "      <td>3.0</td>\n",
              "    </tr>\n",
              "    <tr>\n",
              "      <th>72</th>\n",
              "      <td>Unico Reserva Especial Edicion</td>\n",
              "      <td>1996</td>\n",
              "      <td>4.7</td>\n",
              "      <td>Ribera del Duero</td>\n",
              "      <td>290.00</td>\n",
              "      <td>Ribera Del Duero Red</td>\n",
              "      <td>5.0</td>\n",
              "      <td>3.0</td>\n",
              "    </tr>\n",
              "    <tr>\n",
              "      <th>63</th>\n",
              "      <td>Unico Reserva Especial Edicion</td>\n",
              "      <td>2000</td>\n",
              "      <td>4.7</td>\n",
              "      <td>Ribera del Duero</td>\n",
              "      <td>877.85</td>\n",
              "      <td>Ribera Del Duero Red</td>\n",
              "      <td>5.0</td>\n",
              "      <td>3.0</td>\n",
              "    </tr>\n",
              "    <tr>\n",
              "      <th>19</th>\n",
              "      <td>Unico Reserva Especial Edicion</td>\n",
              "      <td>2004</td>\n",
              "      <td>4.8</td>\n",
              "      <td>Ribera del Duero</td>\n",
              "      <td>824.43</td>\n",
              "      <td>Ribera Del Duero Red</td>\n",
              "      <td>5.0</td>\n",
              "      <td>3.0</td>\n",
              "    </tr>\n",
              "    <tr>\n",
              "      <th>28</th>\n",
              "      <td>Unico Reserva Especial Edicion</td>\n",
              "      <td>2005</td>\n",
              "      <td>4.8</td>\n",
              "      <td>Ribera del Duero</td>\n",
              "      <td>813.96</td>\n",
              "      <td>Ribera Del Duero Red</td>\n",
              "      <td>5.0</td>\n",
              "      <td>3.0</td>\n",
              "    </tr>\n",
              "    <tr>\n",
              "      <th>126</th>\n",
              "      <td>Unico Reserva Especial Edicion</td>\n",
              "      <td>2006</td>\n",
              "      <td>4.7</td>\n",
              "      <td>Ribera del Duero</td>\n",
              "      <td>813.96</td>\n",
              "      <td>Ribera Del Duero Red</td>\n",
              "      <td>5.0</td>\n",
              "      <td>3.0</td>\n",
              "    </tr>\n",
              "    <tr>\n",
              "      <th>78</th>\n",
              "      <td>Unico Reserva Especial Edicion</td>\n",
              "      <td>2007</td>\n",
              "      <td>4.7</td>\n",
              "      <td>Ribera del Duero</td>\n",
              "      <td>774.40</td>\n",
              "      <td>Ribera Del Duero Red</td>\n",
              "      <td>5.0</td>\n",
              "      <td>3.0</td>\n",
              "    </tr>\n",
              "    <tr>\n",
              "      <th>243</th>\n",
              "      <td>Unico Reserva Especial Edicion</td>\n",
              "      <td>2009</td>\n",
              "      <td>4.6</td>\n",
              "      <td>Ribera del Duero</td>\n",
              "      <td>747.17</td>\n",
              "      <td>Ribera Del Duero Red</td>\n",
              "      <td>5.0</td>\n",
              "      <td>3.0</td>\n",
              "    </tr>\n",
              "    <tr>\n",
              "      <th>24</th>\n",
              "      <td>Unico Reserva Especial Edicion</td>\n",
              "      <td>2010</td>\n",
              "      <td>4.8</td>\n",
              "      <td>Ribera del Duero</td>\n",
              "      <td>719.34</td>\n",
              "      <td>Ribera Del Duero Red</td>\n",
              "      <td>5.0</td>\n",
              "      <td>3.0</td>\n",
              "    </tr>\n",
              "    <tr>\n",
              "      <th>107</th>\n",
              "      <td>Unico Reserva Especial Edicion</td>\n",
              "      <td>2011</td>\n",
              "      <td>4.7</td>\n",
              "      <td>Ribera del Duero</td>\n",
              "      <td>340.49</td>\n",
              "      <td>Ribera Del Duero Red</td>\n",
              "      <td>5.0</td>\n",
              "      <td>3.0</td>\n",
              "    </tr>\n",
              "    <tr>\n",
              "      <th>102</th>\n",
              "      <td>Unico Reserva Especial Edicion</td>\n",
              "      <td>2012</td>\n",
              "      <td>4.7</td>\n",
              "      <td>Ribera del Duero</td>\n",
              "      <td>660.96</td>\n",
              "      <td>Ribera Del Duero Red</td>\n",
              "      <td>5.0</td>\n",
              "      <td>3.0</td>\n",
              "    </tr>\n",
              "    <tr>\n",
              "      <th>21</th>\n",
              "      <td>Unico Reserva Especial Edicion</td>\n",
              "      <td>2013</td>\n",
              "      <td>4.8</td>\n",
              "      <td>Ribera del Duero</td>\n",
              "      <td>570.51</td>\n",
              "      <td>Ribera Del Duero Red</td>\n",
              "      <td>5.0</td>\n",
              "      <td>3.0</td>\n",
              "    </tr>\n",
              "    <tr>\n",
              "      <th>8</th>\n",
              "      <td>Unico Reserva Especial Edicion</td>\n",
              "      <td>2015</td>\n",
              "      <td>4.8</td>\n",
              "      <td>Ribera del Duero</td>\n",
              "      <td>345.00</td>\n",
              "      <td>Ribera Del Duero Red</td>\n",
              "      <td>5.0</td>\n",
              "      <td>3.0</td>\n",
              "    </tr>\n",
              "    <tr>\n",
              "      <th>10</th>\n",
              "      <td>Unico Reserva Especial Edicion</td>\n",
              "      <td>2016</td>\n",
              "      <td>4.8</td>\n",
              "      <td>Ribera del Duero</td>\n",
              "      <td>514.85</td>\n",
              "      <td>Ribera Del Duero Red</td>\n",
              "      <td>5.0</td>\n",
              "      <td>3.0</td>\n",
              "    </tr>\n",
              "    <tr>\n",
              "      <th>68</th>\n",
              "      <td>Unico Reserva Especial Edicion</td>\n",
              "      <td>2017</td>\n",
              "      <td>4.7</td>\n",
              "      <td>Ribera del Duero</td>\n",
              "      <td>480.06</td>\n",
              "      <td>Ribera Del Duero Red</td>\n",
              "      <td>5.0</td>\n",
              "      <td>3.0</td>\n",
              "    </tr>\n",
              "    <tr>\n",
              "      <th>12</th>\n",
              "      <td>Unico Reserva Especial Edicion</td>\n",
              "      <td>2018</td>\n",
              "      <td>4.8</td>\n",
              "      <td>Ribera del Duero</td>\n",
              "      <td>430.00</td>\n",
              "      <td>Ribera Del Duero Red</td>\n",
              "      <td>5.0</td>\n",
              "      <td>3.0</td>\n",
              "    </tr>\n",
              "    <tr>\n",
              "      <th>17</th>\n",
              "      <td>Unico Reserva Especial Edicion</td>\n",
              "      <td>2019</td>\n",
              "      <td>4.8</td>\n",
              "      <td>Ribera del Duero</td>\n",
              "      <td>431.36</td>\n",
              "      <td>Ribera Del Duero Red</td>\n",
              "      <td>5.0</td>\n",
              "      <td>3.0</td>\n",
              "    </tr>\n",
              "    <tr>\n",
              "      <th>29</th>\n",
              "      <td>Unico Reserva Especial Edicion</td>\n",
              "      <td>2020</td>\n",
              "      <td>4.8</td>\n",
              "      <td>Ribera del Duero</td>\n",
              "      <td>435.75</td>\n",
              "      <td>Ribera Del Duero Red</td>\n",
              "      <td>5.0</td>\n",
              "      <td>3.0</td>\n",
              "    </tr>\n",
              "    <tr>\n",
              "      <th>46</th>\n",
              "      <td>Unico Reserva Especial Edicion</td>\n",
              "      <td>NaN</td>\n",
              "      <td>4.7</td>\n",
              "      <td>Ribera del Duero</td>\n",
              "      <td>423.50</td>\n",
              "      <td>Ribera Del Duero Red</td>\n",
              "      <td>5.0</td>\n",
              "      <td>3.0</td>\n",
              "    </tr>\n",
              "  </tbody>\n",
              "</table>\n",
              "</div>\n",
              "      <button class=\"colab-df-convert\" onclick=\"convertToInteractive('df-f679cdec-72ca-435c-9c23-4eba3aac075c')\"\n",
              "              title=\"Convert this dataframe to an interactive table.\"\n",
              "              style=\"display:none;\">\n",
              "        \n",
              "  <svg xmlns=\"http://www.w3.org/2000/svg\" height=\"24px\"viewBox=\"0 0 24 24\"\n",
              "       width=\"24px\">\n",
              "    <path d=\"M0 0h24v24H0V0z\" fill=\"none\"/>\n",
              "    <path d=\"M18.56 5.44l.94 2.06.94-2.06 2.06-.94-2.06-.94-.94-2.06-.94 2.06-2.06.94zm-11 1L8.5 8.5l.94-2.06 2.06-.94-2.06-.94L8.5 2.5l-.94 2.06-2.06.94zm10 10l.94 2.06.94-2.06 2.06-.94-2.06-.94-.94-2.06-.94 2.06-2.06.94z\"/><path d=\"M17.41 7.96l-1.37-1.37c-.4-.4-.92-.59-1.43-.59-.52 0-1.04.2-1.43.59L10.3 9.45l-7.72 7.72c-.78.78-.78 2.05 0 2.83L4 21.41c.39.39.9.59 1.41.59.51 0 1.02-.2 1.41-.59l7.78-7.78 2.81-2.81c.8-.78.8-2.07 0-2.86zM5.41 20L4 18.59l7.72-7.72 1.47 1.35L5.41 20z\"/>\n",
              "  </svg>\n",
              "      </button>\n",
              "      \n",
              "  <style>\n",
              "    .colab-df-container {\n",
              "      display:flex;\n",
              "      flex-wrap:wrap;\n",
              "      gap: 12px;\n",
              "    }\n",
              "\n",
              "    .colab-df-convert {\n",
              "      background-color: #E8F0FE;\n",
              "      border: none;\n",
              "      border-radius: 50%;\n",
              "      cursor: pointer;\n",
              "      display: none;\n",
              "      fill: #1967D2;\n",
              "      height: 32px;\n",
              "      padding: 0 0 0 0;\n",
              "      width: 32px;\n",
              "    }\n",
              "\n",
              "    .colab-df-convert:hover {\n",
              "      background-color: #E2EBFA;\n",
              "      box-shadow: 0px 1px 2px rgba(60, 64, 67, 0.3), 0px 1px 3px 1px rgba(60, 64, 67, 0.15);\n",
              "      fill: #174EA6;\n",
              "    }\n",
              "\n",
              "    [theme=dark] .colab-df-convert {\n",
              "      background-color: #3B4455;\n",
              "      fill: #D2E3FC;\n",
              "    }\n",
              "\n",
              "    [theme=dark] .colab-df-convert:hover {\n",
              "      background-color: #434B5C;\n",
              "      box-shadow: 0px 1px 3px 1px rgba(0, 0, 0, 0.15);\n",
              "      filter: drop-shadow(0px 1px 2px rgba(0, 0, 0, 0.3));\n",
              "      fill: #FFFFFF;\n",
              "    }\n",
              "  </style>\n",
              "\n",
              "      <script>\n",
              "        const buttonEl =\n",
              "          document.querySelector('#df-f679cdec-72ca-435c-9c23-4eba3aac075c button.colab-df-convert');\n",
              "        buttonEl.style.display =\n",
              "          google.colab.kernel.accessAllowed ? 'block' : 'none';\n",
              "\n",
              "        async function convertToInteractive(key) {\n",
              "          const element = document.querySelector('#df-f679cdec-72ca-435c-9c23-4eba3aac075c');\n",
              "          const dataTable =\n",
              "            await google.colab.kernel.invokeFunction('convertToInteractive',\n",
              "                                                     [key], {});\n",
              "          if (!dataTable) return;\n",
              "\n",
              "          const docLinkHtml = 'Like what you see? Visit the ' +\n",
              "            '<a target=\"_blank\" href=https://colab.research.google.com/notebooks/data_table.ipynb>data table notebook</a>'\n",
              "            + ' to learn more about interactive tables.';\n",
              "          element.innerHTML = '';\n",
              "          dataTable['output_type'] = 'display_data';\n",
              "          await google.colab.output.renderOutput(dataTable, element);\n",
              "          const docLink = document.createElement('div');\n",
              "          docLink.innerHTML = docLinkHtml;\n",
              "          element.appendChild(docLink);\n",
              "        }\n",
              "      </script>\n",
              "    </div>\n",
              "  </div>\n",
              "  "
            ]
          },
          "metadata": {},
          "execution_count": 15
        }
      ],
      "source": [
        "dfc_Vega = dfc[(dfc['region']=='Ribera del Duero')&(dfc['wine']=='Unico Reserva Especial Edicion')]\n",
        "dfc_Vega.sort_values(by = 'year')\n",
        "#https://pandas.pydata.org/docs/reference/api/pandas.DataFrame.sort_values.html"
      ]
    },
    {
      "cell_type": "code",
      "execution_count": 16,
      "metadata": {
        "colab": {
          "base_uri": "https://localhost:8080/",
          "height": 80
        },
        "id": "5R4PzcaX97T0",
        "outputId": "e07b24c2-990f-4c94-b726-1bd28a43aa7c"
      },
      "outputs": [
        {
          "output_type": "execute_result",
          "data": {
            "text/plain": [
              "               wine year  rating          region  price         type  body  \\\n",
              "851  Fourth Edition  NaN     4.4  Vino de Espana   40.0  Tempranillo   4.0   \n",
              "\n",
              "     acidity  \n",
              "851      2.0  "
            ],
            "text/html": [
              "\n",
              "  <div id=\"df-9b1f1019-f33e-4dc4-aaee-c1447bf91e9a\">\n",
              "    <div class=\"colab-df-container\">\n",
              "      <div>\n",
              "<style scoped>\n",
              "    .dataframe tbody tr th:only-of-type {\n",
              "        vertical-align: middle;\n",
              "    }\n",
              "\n",
              "    .dataframe tbody tr th {\n",
              "        vertical-align: top;\n",
              "    }\n",
              "\n",
              "    .dataframe thead th {\n",
              "        text-align: right;\n",
              "    }\n",
              "</style>\n",
              "<table border=\"1\" class=\"dataframe\">\n",
              "  <thead>\n",
              "    <tr style=\"text-align: right;\">\n",
              "      <th></th>\n",
              "      <th>wine</th>\n",
              "      <th>year</th>\n",
              "      <th>rating</th>\n",
              "      <th>region</th>\n",
              "      <th>price</th>\n",
              "      <th>type</th>\n",
              "      <th>body</th>\n",
              "      <th>acidity</th>\n",
              "    </tr>\n",
              "  </thead>\n",
              "  <tbody>\n",
              "    <tr>\n",
              "      <th>851</th>\n",
              "      <td>Fourth Edition</td>\n",
              "      <td>NaN</td>\n",
              "      <td>4.4</td>\n",
              "      <td>Vino de Espana</td>\n",
              "      <td>40.0</td>\n",
              "      <td>Tempranillo</td>\n",
              "      <td>4.0</td>\n",
              "      <td>2.0</td>\n",
              "    </tr>\n",
              "  </tbody>\n",
              "</table>\n",
              "</div>\n",
              "      <button class=\"colab-df-convert\" onclick=\"convertToInteractive('df-9b1f1019-f33e-4dc4-aaee-c1447bf91e9a')\"\n",
              "              title=\"Convert this dataframe to an interactive table.\"\n",
              "              style=\"display:none;\">\n",
              "        \n",
              "  <svg xmlns=\"http://www.w3.org/2000/svg\" height=\"24px\"viewBox=\"0 0 24 24\"\n",
              "       width=\"24px\">\n",
              "    <path d=\"M0 0h24v24H0V0z\" fill=\"none\"/>\n",
              "    <path d=\"M18.56 5.44l.94 2.06.94-2.06 2.06-.94-2.06-.94-.94-2.06-.94 2.06-2.06.94zm-11 1L8.5 8.5l.94-2.06 2.06-.94-2.06-.94L8.5 2.5l-.94 2.06-2.06.94zm10 10l.94 2.06.94-2.06 2.06-.94-2.06-.94-.94-2.06-.94 2.06-2.06.94z\"/><path d=\"M17.41 7.96l-1.37-1.37c-.4-.4-.92-.59-1.43-.59-.52 0-1.04.2-1.43.59L10.3 9.45l-7.72 7.72c-.78.78-.78 2.05 0 2.83L4 21.41c.39.39.9.59 1.41.59.51 0 1.02-.2 1.41-.59l7.78-7.78 2.81-2.81c.8-.78.8-2.07 0-2.86zM5.41 20L4 18.59l7.72-7.72 1.47 1.35L5.41 20z\"/>\n",
              "  </svg>\n",
              "      </button>\n",
              "      \n",
              "  <style>\n",
              "    .colab-df-container {\n",
              "      display:flex;\n",
              "      flex-wrap:wrap;\n",
              "      gap: 12px;\n",
              "    }\n",
              "\n",
              "    .colab-df-convert {\n",
              "      background-color: #E8F0FE;\n",
              "      border: none;\n",
              "      border-radius: 50%;\n",
              "      cursor: pointer;\n",
              "      display: none;\n",
              "      fill: #1967D2;\n",
              "      height: 32px;\n",
              "      padding: 0 0 0 0;\n",
              "      width: 32px;\n",
              "    }\n",
              "\n",
              "    .colab-df-convert:hover {\n",
              "      background-color: #E2EBFA;\n",
              "      box-shadow: 0px 1px 2px rgba(60, 64, 67, 0.3), 0px 1px 3px 1px rgba(60, 64, 67, 0.15);\n",
              "      fill: #174EA6;\n",
              "    }\n",
              "\n",
              "    [theme=dark] .colab-df-convert {\n",
              "      background-color: #3B4455;\n",
              "      fill: #D2E3FC;\n",
              "    }\n",
              "\n",
              "    [theme=dark] .colab-df-convert:hover {\n",
              "      background-color: #434B5C;\n",
              "      box-shadow: 0px 1px 3px 1px rgba(0, 0, 0, 0.15);\n",
              "      filter: drop-shadow(0px 1px 2px rgba(0, 0, 0, 0.3));\n",
              "      fill: #FFFFFF;\n",
              "    }\n",
              "  </style>\n",
              "\n",
              "      <script>\n",
              "        const buttonEl =\n",
              "          document.querySelector('#df-9b1f1019-f33e-4dc4-aaee-c1447bf91e9a button.colab-df-convert');\n",
              "        buttonEl.style.display =\n",
              "          google.colab.kernel.accessAllowed ? 'block' : 'none';\n",
              "\n",
              "        async function convertToInteractive(key) {\n",
              "          const element = document.querySelector('#df-9b1f1019-f33e-4dc4-aaee-c1447bf91e9a');\n",
              "          const dataTable =\n",
              "            await google.colab.kernel.invokeFunction('convertToInteractive',\n",
              "                                                     [key], {});\n",
              "          if (!dataTable) return;\n",
              "\n",
              "          const docLinkHtml = 'Like what you see? Visit the ' +\n",
              "            '<a target=\"_blank\" href=https://colab.research.google.com/notebooks/data_table.ipynb>data table notebook</a>'\n",
              "            + ' to learn more about interactive tables.';\n",
              "          element.innerHTML = '';\n",
              "          dataTable['output_type'] = 'display_data';\n",
              "          await google.colab.output.renderOutput(dataTable, element);\n",
              "          const docLink = document.createElement('div');\n",
              "          docLink.innerHTML = docLinkHtml;\n",
              "          element.appendChild(docLink);\n",
              "        }\n",
              "      </script>\n",
              "    </div>\n",
              "  </div>\n",
              "  "
            ]
          },
          "metadata": {},
          "execution_count": 16
        }
      ],
      "source": [
        "dfc_Unica = dfc[(dfc['wine']=='Fourth Edition')]\n",
        "dfc_Unica.head()"
      ]
    },
    {
      "cell_type": "markdown",
      "metadata": {
        "id": "k7T1oxM3dWl3"
      },
      "source": [
        "> For the two datas missing year, there doesn't seem to be a hint towards what the year should be."
      ]
    },
    {
      "cell_type": "markdown",
      "metadata": {
        "id": "Xpgd7wdF-eDD"
      },
      "source": [
        "###Check what values are used for Body and Acidity."
      ]
    },
    {
      "cell_type": "code",
      "execution_count": 17,
      "metadata": {
        "colab": {
          "base_uri": "https://localhost:8080/"
        },
        "id": "x36osNhp5hKH",
        "outputId": "fb7dffba-cbaf-4e14-bd3d-2ba28536d6a5"
      },
      "outputs": [
        {
          "output_type": "stream",
          "name": "stdout",
          "text": [
            "[ 5.  4.  3. nan  2.]\n",
            "[ 3.  2.  1. nan]\n"
          ]
        }
      ],
      "source": [
        "print(dfc['body'].unique())\n",
        "print(dfc['acidity'].unique())"
      ]
    },
    {
      "cell_type": "markdown",
      "metadata": {
        "id": "DDRYSRap6A8v"
      },
      "source": [
        "> For the missing numerical values year, body, and acidity, we will use the imputer strategy 'median' to get a whole number. From the unique values listed above, body and acidity are whole numbers.\n",
        "\n",
        "> For wine type, the imputer strategy 'most frequent' will be used."
      ]
    },
    {
      "cell_type": "markdown",
      "metadata": {
        "id": "SQ6sFM53ufwD"
      },
      "source": [
        "##Identified and corrected inconsistencies in data for categorical values (i.e. Cat, cat, cats)."
      ]
    },
    {
      "cell_type": "code",
      "execution_count": 18,
      "metadata": {
        "colab": {
          "base_uri": "https://localhost:8080/"
        },
        "id": "GgdwfPv7yZq2",
        "outputId": "1a144c78-1992-4413-d5fc-9228f6c01366"
      },
      "outputs": [
        {
          "output_type": "stream",
          "name": "stdout",
          "text": [
            "<class 'pandas.core.frame.DataFrame'>\n",
            "Int64Index: 2047 entries, 0 to 6100\n",
            "Data columns (total 8 columns):\n",
            " #   Column   Non-Null Count  Dtype  \n",
            "---  ------   --------------  -----  \n",
            " 0   wine     2047 non-null   object \n",
            " 1   year     2045 non-null   object \n",
            " 2   rating   2047 non-null   float64\n",
            " 3   region   2047 non-null   object \n",
            " 4   price    2047 non-null   float64\n",
            " 5   type     1941 non-null   object \n",
            " 6   body     1776 non-null   float64\n",
            " 7   acidity  1776 non-null   float64\n",
            "dtypes: float64(4), object(4)\n",
            "memory usage: 143.9+ KB\n"
          ]
        }
      ],
      "source": [
        "dfc.info()"
      ]
    },
    {
      "cell_type": "markdown",
      "metadata": {
        "id": "sbedDcz3drez"
      },
      "source": [
        "> Year should be a float but something is causing it to be an object column."
      ]
    },
    {
      "cell_type": "code",
      "execution_count": 19,
      "metadata": {
        "id": "1Shkj0PsAD6I"
      },
      "outputs": [],
      "source": [
        "#dfc['year'] = dfc['year'].astype(float)"
      ]
    },
    {
      "cell_type": "markdown",
      "metadata": {
        "id": "TQc7ly_2C2Ad"
      },
      "source": [
        "> There were actually more than 2 wines that had missing year values. I will replace the N.V. (No value) with an actual NaN input."
      ]
    },
    {
      "cell_type": "code",
      "execution_count": 20,
      "metadata": {
        "id": "ZtAVUGPnCEdH"
      },
      "outputs": [],
      "source": [
        "dfc['year'].replace('N.V.',np.nan, inplace = True)\n",
        "dfc['year'] = dfc['year'].astype(float)\n",
        "#https://sparkbyexamples.com/pandas/pandas-replace-nan-with-blank-empty-string/"
      ]
    },
    {
      "cell_type": "code",
      "execution_count": 21,
      "metadata": {
        "colab": {
          "base_uri": "https://localhost:8080/"
        },
        "id": "85a8NwYGDPXi",
        "outputId": "e0df8b01-bb1c-4efb-dd97-33bac560e42d"
      },
      "outputs": [
        {
          "output_type": "stream",
          "name": "stdout",
          "text": [
            "<class 'pandas.core.frame.DataFrame'>\n",
            "Int64Index: 2047 entries, 0 to 6100\n",
            "Data columns (total 8 columns):\n",
            " #   Column   Non-Null Count  Dtype  \n",
            "---  ------   --------------  -----  \n",
            " 0   wine     2047 non-null   object \n",
            " 1   year     1975 non-null   float64\n",
            " 2   rating   2047 non-null   float64\n",
            " 3   region   2047 non-null   object \n",
            " 4   price    2047 non-null   float64\n",
            " 5   type     1941 non-null   object \n",
            " 6   body     1776 non-null   float64\n",
            " 7   acidity  1776 non-null   float64\n",
            "dtypes: float64(5), object(3)\n",
            "memory usage: 143.9+ KB\n"
          ]
        }
      ],
      "source": [
        "dfc.info()"
      ]
    },
    {
      "cell_type": "code",
      "execution_count": 22,
      "metadata": {
        "colab": {
          "base_uri": "https://localhost:8080/"
        },
        "id": "Bkf1J5xiuyBl",
        "outputId": "5612963b-0482-419e-d1bb-3bee42860a36"
      },
      "outputs": [
        {
          "output_type": "stream",
          "name": "stdout",
          "text": [
            "wine\n",
            "                                              1194\n",
            "                                                17\n",
            "                                  1730 Amontillado\n",
            "                                1730 Pedro Ximenez\n",
            "                   1902 Centenary Carignan Priorat\n",
            "                           1903 Centenary Grenache\n",
            "                                200 Cestos Godello\n",
            "       200 Monges Edicion Exclusiva Blanco Reserva\n",
            "                     200 Monges Rioja Gran Reserva\n",
            "                          200 Monges Rioja Reserva\n",
            "       200 Monges Rioja Reserva Seleccion Especial\n",
            "200 Monges Rioja Seleccion Especial Reserva Blanco\n",
            "                               27 Ribera del Duero\n",
            "                                               3.9\n",
            "30 Years V.O.R.S Very Old Palo Cortado Blend Me...\n",
            "                30 Years VORS Pedro Ximenez Sherry\n",
            "                    3er Ano Ribera del Duero Tinto\n",
            "                      4 Varietales Coleccion Rioja\n",
            "                       40 Aniversario Gran Reserva\n",
            "                        5 Finques (Fincas) Reserva\n",
            "               5 Partides Gratallops Vi de La Vila\n",
            "                                         5V Blanco\n",
            "                                            5o Ano\n",
            "                     5o Ano Ribera del Duero Tinto\n",
            "                                  8 Vents Mallorca\n",
            "                                              8000\n",
            "                                      A Mano Rioja\n",
            "                                       A Pita Cega\n",
            "                 A Torna dos Pasas Escolma Ribeiro\n",
            "                                               AAA\n",
            "                          ARX Arcos de la Frontera\n",
            "                         Abuelo Diego Palo Cortado\n",
            "                                          Acediano\n",
            "                                             Adaro\n",
            "                        Adega do Moucho Treixadura\n",
            "                                         Alabaster\n",
            "          Alaya Tierra (Old Vines Vieilles Vignes)\n",
            "                       Alba de Miros Rueda Verdejo\n",
            "                                          Albarino\n",
            "                                Albarino (O Rosal)\n",
            "                               Albarino Pedralonga\n",
            "                               Albarino Sobre Lias\n",
            "                     Albarino de Fefinanes III Ano\n",
            "              Alenza Ribera del Duero Gran Reserva\n",
            "                     Alexander vs. The Ham Factory\n",
            "                       Alicante Bouschet by Tarima\n",
            "                                 Alma Tobia Blanco\n",
            "                                  Alma Tobia Rioja\n",
            "                              Alma de Mar Albarino\n",
            "                                           Alomado\n",
            "                                             Altar\n",
            "                                 Alto de la Caseta\n",
            "                                   Altos R Pigeage\n",
            "                          Altos R Pigeage Graciano\n",
            "          Altos R Pigeage Nacido en Barrica Blanco\n",
            "                   Altos de Las Gateras Monastrell\n",
            "                                   Altos de Losada\n",
            "                          Altos de Losada El Cepon\n",
            "                                           Amancio\n",
            "                         Amaya Arzuaga (Coleccion)\n",
            "           Amontillado 30 Years Old V.O.R.S Sherry\n",
            "            Amontillado 51-1a 30 Years VORS Sherry\n",
            "Amontillado Napoleon Vinos Viejos 30 Year Old S...\n",
            "                                  Amontillado Saca\n",
            "               Amontillado Tradicion Vors 30 Years\n",
            "                               Amontillado V.O.R.S\n",
            "                                                An\n",
            "                           Anada Palo Cortado 1987\n",
            "                               Anada Pedro Ximenez\n",
            "                                          Anadelia\n",
            "                            Angel Ribera del Duero\n",
            "          Angeles de Amaren Tempranillo - Graciano\n",
            "                                 Antigues Reserves\n",
            "                              Antique Palo Cortado\n",
            " Aponte Winemaker's Private Collection Tempranillo\n",
            "                     Apostoles 30 Years Old Sherry\n",
            "                                  Aquilon Garnacha\n",
            "                              Arcos de la Frontera\n",
            "                 Argila Reserva 3 Anys Brut Nature\n",
            "                Arnau Oller Seleccio de la Familia\n",
            "                                               Aro\n",
            "                                            Arousa\n",
            "                                           Artigas\n",
            "                    As Sortes Val do Bibei Godello\n",
            "                                         Atlantico\n",
            "                   Atteca Armas Garnacha Old Vines\n",
            "                         Attis Embaixador Albarino\n",
            "                                             Aurea\n",
            "                                             Aurus\n",
            "                    B.Rodriguez La-Cave Quo Vadis?\n",
            "                            Bagus Ribera del Duero\n",
            "                     Baron de Chirel Rioja Reserva\n",
            "         Baron de Chirel Verdejo Vinas Centenarias\n",
            "                        Baron de Ona Rioja Reserva\n",
            "                                           Barrica\n",
            "                                 Bassus Pinot Noir\n",
            "                               Belondrade y Lurton\n",
            "                                      Blanc de Neu\n",
            "                                            Blanco\n",
            "                                   Blanco Afrutado\n",
            "                                 Blanco de Parcela\n",
            "                                  Blecua Somontano\n",
            "                Bosque de Matasnos Etiqueta Blanca\n",
            "                                      Branco Vermu\n",
            "                                    Brega Garnacha\n",
            "                                             Bruto\n",
            "                                          CM Tinto\n",
            "                                          Cabernet\n",
            "                                Cabernet Sauvignon\n",
            "                                  Cabrida Montsant\n",
            "                                             Calmo\n",
            "                                    Calvario Rioja\n",
            "                                   Cami Pesseroles\n",
            "                                    Cami de Cormes\n",
            "                    Camino del Abuelo Vinas Viejas\n",
            "                                      Campo Eliseo\n",
            "                               Campo Eliseo Blanco\n",
            "                                   Campus Gothorum\n",
            "                             Canasta 20 Anos Cream\n",
            "                         Candela Cream Dulce Sweet\n",
            "                                   Canta la Perdiz\n",
            "                                 Cantos del Diablo\n",
            "                                Capellania Reserva\n",
            "                                           Capitel\n",
            "                                          Capricho\n",
            "                                  Capricho Crianza\n",
            "                        Cardenal Palo Cortado VORS\n",
            "                  Carinena Parcela 15 Vinas Viejas\n",
            "                           Carraquintana de Amaren\n",
            "                            Cartago Paraje de Pozo\n",
            "                             Casa Cisca Monastrell\n",
            "            Casta Diva Cosecha Miel Moscatel Dulce\n",
            "        Castillo Ygay Gran Reserva Especial Blanco\n",
            "         Castillo Ygay Gran Reserva Especial Tinto\n",
            "           Castillo de Monte la Reina Cuvee Privee\n",
            "                               Castineiro Albarino\n",
            "                                Cava Brut Milesime\n",
            "                                Cava Celler Batlle\n",
            "                     Cava Cuvee De Prestige Trepat\n",
            "                       Cava El Tros Nou Pinot Noir\n",
            "           Cava Enoteca Finca La Plana Brut Nature\n",
            "        Cava Enoteca Finca de L'Origen Brut Nature\n",
            "                    Cava Ex-Vite Gran Reserva Brut\n",
            "         Cava Gran Reserva Familiar Millenium Brut\n",
            "                 Cava Gran Reserva La Capella Brut\n",
            "              Cava Kripta Gran Reserva Brut Nature\n",
            "                      Cava Original Brut (Espumos)\n",
            "      Cava Reserva Especial Chardonnay Brut Nature\n",
            "          Cayetano del Pino Viejisimo Palo Cortado\n",
            "                                             Celia\n",
            "                                             Cenit\n",
            "                              Cepas Vellas Godello\n",
            "                 Cepas Vellas Rias Baixas Albarino\n",
            "                        Cerrado del Castillo Rioja\n",
            "                     Cerro Anon Rioja Gran Reserva\n",
            "                               Cerro La Isa Blanco\n",
            "                             Cerro La Isa Garnacha\n",
            "                Cerro Las Cuevas Seleccion Terroir\n",
            "                              Cerro del Lobo Syrah\n",
            "                                         Chafandin\n",
            "                  Chardonnay Fermentado en Barrica\n",
            "                                  Chardonnay Roure\n",
            "                                    Chardonnay Uno\n",
            "                        Christina Ribera del Duero\n",
            "                                          Cirerets\n",
            "                                     Cirsion Rioja\n",
            "                                           Classic\n",
            "                                              Clio\n",
            "                                Clon De La Familia\n",
            "                    Clos Abella Seleccion Especial\n",
            "                                       Clos Adrien\n",
            "             Clos Cypres Vinyes Velles (Old Vines)\n",
            "                                     Clos Figueres\n",
            "                                Clos Fonta Priorat\n",
            "                                     Clos Martinet\n",
            "                                      Clos Monlleo\n",
            "                                    Clos de L'Obac\n",
            "                   Clos del Portal Negre de Negres\n",
            "                             Clos del Portal Somni\n",
            "                      Clos del Portal Tros de Clos\n",
            "                                Club Rioja Reserva\n",
            "                                          Cofradia\n",
            "                           Coleccion No. 3 Cosecha\n",
            "                                 Coleccion Privada\n",
            "              Coleccion Roberto Amillo Amontillado\n",
            "             Coleccion Roberto Amillo Palo Cortado\n",
            "                                   Coleccion Syrah\n",
            "                          Coliseo Amontillado VORS\n",
            "                                            Com Tu\n",
            "                                        Coma Bruna\n",
            "                                Coma Vella Priorat\n",
            "                       Conde de Aldama Amontillado\n",
            "                                    Confesor Rioja\n",
            "                                    Contador Rioja\n",
            "                                         Corimbo I\n",
            "  Corpinnat Enoteca Reserva Particular de Recaredo\n",
            "                     Corpinnat Terrers Brut Nature\n",
            "                                           Cosecha\n",
            "                                Coster d'en Fornos\n",
            "                            Costers Del Segre 1780\n",
            "                   Coto de Imaz Rioja Gran Reserva\n",
            "                      Cream Tradicion Vos 20 Years\n",
            "                                           Crianza\n",
            "                                     Crianza Tinto\n",
            "                     Crianza Vendimia Seleccionada\n",
            "                         Cuatro Palmas Amontillado\n",
            "                             Cuesta de Las Liebres\n",
            "                              Culmen Reserva Rioja\n",
            "                      Cuvee Julia Ribera del Duero\n",
            "                              Cuvee N Vinas Viejas\n",
            "                        Cuvee Old Vines Unfiltered\n",
            "                                     Cuvee Palomar\n",
            "                                     Cuvee Verdejo\n",
            "                                             Cyclo\n",
            "                                      Dalmau Rioja\n",
            "                                Daphne Glorian Red\n",
            "                                   De Garage Rioja\n",
            "                 Del Duque Amontillado Sherry VORS\n",
            "                    Delicado Cosecha Pedro Ximenez\n",
            "                                             Desti\n",
            "                                           Diables\n",
            "                                      Diego Magana\n",
            "                                              Doix\n",
            "                                       Dolc Mataro\n",
            "                                    Dolc de L'Obac\n",
            "                                 Dominio de Atauta\n",
            "                                 Dominio del Pidio\n",
            "                       Dominio del Verso Red Blend\n",
            "Don Guido Pedro Ximenez Solera Especial Aged 20...\n",
            "                                        Don Miguel\n",
            "                        Don Miguel Comenge Reserva\n",
            "                         Don PX Convento Seleccion\n",
            "                               Don PX Gran Reserva\n",
            "                              Don PX Pedro Ximenez\n",
            "                                  Don PX Seleccion\n",
            "                              Don PX Vieja Cosecha\n",
            "           Doroteo Edicion Especial 25 Aniversario\n",
            "Dos Cortados Palo Cortado Solera Especial Aged ...\n",
            "                                  Edicion Limitada\n",
            "                                              Ekam\n",
            "                                     Ekam Essencia\n",
            "                                         El Anejon\n",
            "                                      El Belisario\n",
            "                          El Cabernet F - Familiar\n",
            "                                El Canto del Angel\n",
            "                                       El Carretil\n",
            "                                            El Cel\n",
            "                         El Cordero y las Virgenes\n",
            "                            El Cristo de Samaniego\n",
            "                                      El Cuentista\n",
            "              El Garnacho Viejo de la Familia Acha\n",
            "El Jardin de las Iguales Vinedo Historico Garnacha\n",
            "                                           El Nido\n",
            "                                        El Puntido\n",
            "                           El Puntido Gran Reserva\n",
            "                                       El Regollar\n",
            "                              El Reventon Cebreros\n",
            "                                       El Rocallis\n",
            "                              El Titan del Bendito\n",
            "                                   El Velado Tinto\n",
            "                                          El Viejo\n",
            "                                             Elite\n",
            "                                     Els Escurcons\n",
            "                               Emeritvs (Emeritus)\n",
            "                           Emporda Aires de Garbet\n",
            "                             Emporda Gran Claustro\n",
            "         Emporda Reserva Especial Don Miguel Mateu\n",
            "                    Envidiacochina (Tete de Cuvee)\n",
            "                             Eolic Sauvignon Blanc\n",
            "                                     Epistem No. 3\n",
            "                                           Estrats\n",
            "                          Etern Vinyes Molt Velles\n",
            "                   Fagus de Coto de Hayas Garnacha\n",
            "                                          Falguera\n",
            "                           Familia Comenge Reserva\n",
            "                Faustino de Autor Reserva Especial\n",
            "               Felix Azpilicueta Coleccion Privada\n",
            "                      Fermentado En Barrica Blanco\n",
            "                               Finca Azaya Premium\n",
            "                             Finca Biniagual Veran\n",
            "                    Finca Butaros Vinya Centenaria\n",
            "                                 Finca Cascorrales\n",
            "                   Finca Cuesta Clara Raro Reserva\n",
            "                                        Finca Dofi\n",
            "                                    Finca El Canto\n",
            "                                    Finca El Otero\n",
            "                                      Finca Garbet\n",
            "                                      Finca Helena\n",
            "                        Finca Iscorta Gran Reserva\n",
            "                   Finca La Colina Sauvignon Blanc\n",
            "         Finca La Emperatriz Vinedo Singular Tinto\n",
            "                                Finca La Herradura\n",
            "                                 Finca La Pedrissa\n",
            "                           Finca Las Comas Verdejo\n",
            "                                   Finca Las Naves\n",
            "                Finca Los Hoyales Ribera del Duero\n",
            "                                Finca Los Quemados\n",
            "                                   Finca Malaveina\n",
            "                                     Finca Martelo\n",
            "                                   Finca Matambres\n",
            "                  Finca Misenhora Edicion Limitada\n",
            "                                  Finca Monteviejo\n",
            "                                   Finca Terrerazo\n",
            "   Finca Valmediano Tinta de Toro 16 Meses Barrica\n",
            "                                   Finca el Bosque\n",
            "                          Finca la Atalaya Reserva\n",
            "                              Finca la Beata Bobal\n",
            "                                  Finca la Oracion\n",
            "                         Finest Old Harvest Medium\n",
            "                 Fino Imperial Amontillado 30 Anos\n",
            "                                 Fino La Barajuela\n",
            "                                    Flor de Pingus\n",
            "                   Flor de Primavera Peraj Ha'abib\n",
            "                                         Fondillon\n",
            "                            Fondillon Gran Reserva\n",
            "                                 Formiga de Vellut\n",
            "                                       Fos Baranda\n",
            "                                    Fourth Edition\n",
            "                             Frank Gehry Selection\n",
            "                            Fuenmayor Gran Reserva\n",
            "                                            Galena\n",
            "                                 Galia Clos Santuy\n",
            "                        Galiano Seleccion Especial\n",
            "                    Gallaecia Rias Baixes Albarino\n",
            "                                           Gaminde\n",
            "                                          Garnacha\n",
            "                  Garnacha Parcela 81 Vinas Viejas\n",
            "                                Garnacha Tintorera\n",
            "                        Garnacha Vinas Centenarias\n",
            "                                           Gaudium\n",
            "                                           Gessami\n",
            "                       Gines Liebana Pedro Ximenez\n",
            "                                  Giro de Abargues\n",
            "                                      Gloria Rioja\n",
            "                                           Godello\n",
            "                                    Godello Blanco\n",
            "                                   Godina Garnacha\n",
            "                                          Graciano\n",
            "                     Gran Arzuaga Ribera del Duero\n",
            "         Gran Barquero Palo Cortado Solera 25 Anos\n",
            "                                 Gran Buig Priorat\n",
            "                                   Gran Calzadilla\n",
            "                                      Gran Reserva\n",
            "                                  Gran Reserva 890\n",
            "                      Gran Reserva Classica Blanco\n",
            "                       Gran Reserva Classica Tinto\n",
            "                         Gran Reserva Penas Aladas\n",
            "                     Gran Reserva Ribera del Duero\n",
            "                                Gran Reserva Rioja\n",
            "                   Gran Reserva Rioja (Finca Ygay)\n",
            "                               Gran Reserva Rosado\n",
            "                             Gran Ribera del Duero\n",
            "                                Gran Vino Albarino\n",
            "                                  Gran Vino Blanco\n",
            "                              Grandes Anadas Rioja\n",
            "                         Granja Gran Reserva Rioja\n",
            "                                     Grano a Grano\n",
            "                 Grano a Grano Graciano - Garnacha\n",
            "                         Grano a Grano Tempranillo\n",
            "                                    Grans Muralles\n",
            "                          Gratallops Escanya-Vella\n",
            "                      Gratallops Partida Bellvisos\n",
            "                                            Grillo\n",
            "              Guarda de Leda Seleccion Tempranillo\n",
            "                                       Gueta-Lupia\n",
            "                                             Habis\n",
            "                               Hacienda Pradolagar\n",
            "                                     Heaven & Hell\n",
            "                                   Heretge Priorat\n",
            "                                Hipperia Red Blend\n",
            "                              Hiru 3 Rioja Racimos\n",
            "                                          Hispania\n",
            "                                           Honoris\n",
            "                                           Horcajo\n",
            "                                    I Gran Reserva\n",
            "                                           III a.C\n",
            "                                              Idus\n",
            "                                              Ines\n",
            "                                             Inici\n",
            "                                    Interpretacion\n",
            "                                           Iugiter\n",
            "Jalifa Amontillado Rare Old Dry Solera Especial...\n",
            "       Jerez-Xeres-Sherry 30 Year Old Oloroso VORS\n",
            "        Juan Piernas Finca El Paso Malo Monastrell\n",
            "                                        Juegabolos\n",
            "                                             Julia\n",
            "                                Jumilla Blue Label\n",
            "                                    Kalamity Rioja\n",
            "                    L'Ermita Velles Vinyes Priorat\n",
            "                                       La Aguilera\n",
            "                             La Atalaya del Camino\n",
            "                                        La Baixada\n",
            "                                         La Baraja\n",
            "                                        La Basseta\n",
            "                                    La Bienquerida\n",
            "                         La Bota 69 de Amontillado\n",
            "                             La Bota 78 de Oloroso\n",
            "                   La Bota 90 de Manzanilla Pasada\n",
            "                            La Casilla Amontillado\n",
            "                                   La Chispa Negra\n",
            "            La Comtesse de Pazo Barrantes Albarino\n",
            "                                      La Creu Alta\n",
            "                            La Cuartilleja Reserva\n",
            "                       La Cueva del Contador Rioja\n",
            "                      La Faraona Bierzo (Corullon)\n",
            "                                         La Felisa\n",
            "                            La Hormiga de Antidoto\n",
            "                                           La Loma\n",
            "    La Loma & Los Santos Garnacha Blanca - Macabeo\n",
            "                                            La Mar\n",
            "                           La Morera de San Lazaro\n",
            "                             La Mula de la Quietud\n",
            "                                        La Navilla\n",
            "                                          La Nieta\n",
            "                                          La Pizca\n",
            "                                       La Plazuela\n",
            "                            La Poza de Ballesteros\n",
            "                                La Revelia Godello\n",
            "                        La Riva Fino Balbaina Alta\n",
            "                                       La Silleria\n",
            "                                    La Solana Alta\n",
            "                                           La Time\n",
            "                     La Vina de Andres Romeo Rioja\n",
            "                             La Vinya del Vuit (8)\n",
            "                                     Laderas Rioja\n",
            "                              Laderas de Inurrieta\n",
            "                              Lalomba Finca Ladero\n",
            "                            Lalomba Finca Valhonta\n",
            "                                            Lapola\n",
            "                 Las Botas Palo Cortado Horizontal\n",
            "                           Las Cenizas Tempranillo\n",
            "                            Las Iruelas El Tiemblo\n",
            "                       Las Lamas Bierzo (Corullon)\n",
            "                                Las Ocho (8) Tinto\n",
            "                                        Las Sabias\n",
            "                                            Laurel\n",
            "                       Le Domaine Blanco de Guarda\n",
            "                                           Le Rose\n",
            " Lealtanza Coleccion de Artistas Espanoles Sorolla\n",
            "                            Les Aubaguetes Priorat\n",
            "                                     Les Brugueres\n",
            "                            Les Eres Vinyes Velles\n",
            "                                        Les Manyes\n",
            "                  Les Terrasses Laderas de Pizarra\n",
            "               Les Terrasses Velles Vinyes Priorat\n",
            "                                        Les Tosses\n",
            "              Llanos del Almendro Ribera del Duero\n",
            "                                 Lo Cabalo Reserva\n",
            "                             Lo Cortinelo.Lo Blanc\n",
            "              Los Dominios de Berceo Prefiloxerico\n",
            "                                    Los Tabaqueros\n",
            "                                     Louro Godello\n",
            "                              Luthier Gran Reserva\n",
            "                                             Macan\n",
            "                                     Macan Clasico\n",
            "                             Maceracion Con Pieles\n",
            "                                            Magico\n",
            "                                          Magister\n",
            "                                    Maimo Garnatxa\n",
            "                        Malabrigo Ribera del Duero\n",
            "                                            Malbec\n",
            "                                         Malleolus\n",
            "                         Malleolus de Sanchomartin\n",
            "                         Malleolus de Valderramiro\n",
            "                                         Malpuesto\n",
            "                                          Malvasia\n",
            "                                Malvasia Volcanica\n",
            "                                  Manar dos Seixas\n",
            "                                          Manyetes\n",
            "                           Maria Remirez de Ganuza\n",
            "                            Maria Ribera del Duero\n",
            "                                        Marmajuelo\n",
            "       Marques de Poley Amontillado Seleccion 1951\n",
            "Marques de la Concordia VSG Premium (formerly H...\n",
            "                                   Martelo Reserva\n",
            "                             Marti Reserva Penedes\n",
            "                   Martinet Bru (Garnatxa - Syrah)\n",
            "                                    Martires Rioja\n",
            "                   Mas La Plana Cabernet Sauvignon\n",
            "                         Mas Via Gran Reserva Brut\n",
            "                                      Mas de Masos\n",
            "                                    Mas de la Rosa\n",
            "                                    Mas del Serral\n",
            "                                            Masdeu\n",
            "                              Masia Carreras Negre\n",
            "      Massipa de Scala Dei Garnatxa Blanca - Xenin\n",
            "                                         Matallana\n",
            "                             Matusalem Sherry VORS\n",
            "                                    Merlot - Syrah\n",
            "                               Milagros de Figuero\n",
            "                            Millenium Gran Reserva\n",
            "                                 Millenium Reserva\n",
            "                                          Milmanda\n",
            "                                            Minami\n",
            "                  Mirador de Navajas Reserva Rioja\n",
            "                 Mironia Black Edition Tempranillo\n",
            "                                             Mirto\n",
            "                                          Miserere\n",
            "                                       Molino Real\n",
            "                                            Monada\n",
            "                  Monastrell - Syrah Finca Espolla\n",
            "                       Moncerbal Bierzo (Corullon)\n",
            "                                           Monreal\n",
            "                 Montes Obarenes Seleccion Terroir\n",
            "                            Montes de Toledo Syrah\n",
            "                                        Montsalvat\n",
            "                                  Moradillo de Roa\n",
            "                                   Mucho Mas Tinto\n",
            "                                            Muscat\n",
            "                 Musivari Gran Reserva Brut Nature\n",
            "                                           Naiades\n",
            "                      Navarra Coleccion 125 Blanco\n",
            "                     Navarra Reserva Coleccion 125\n",
            "             Navarra Vendimia Tardia Coleccion 125\n",
            "                            Nebro Ribera del Duero\n",
            "                                     Nelin Priorat\n",
            "               Nisia Las Suertes Verdejo Old Vines\n",
            "                       Nit de Nin Mas d'en Cacador\n",
            "                                             Nivel\n",
            "                                    No. 2 Victoria\n",
            "                                            No. 20\n",
            "                                            No. 23\n",
            "                                            Nobbis\n",
            "                                             Noble\n",
            "                                            Nounat\n",
            "                                         Numanthia\n",
            "                                   Numerus Clausus\n",
            "                               Nun Vinya dels Taus\n",
            "                                       Nunci Negre\n",
            "                                    Nus del Terrer\n",
            "       O Luar do Sil Valdeorras Godello Sobre Lias\n",
            "                                      Octogenarius\n",
            "                            Old & Plus Amontillado\n",
            "                                Old & Plus Oloroso\n",
            "                          Old & Plus Pedro Ximenez\n",
            "                                           Oloroso\n",
            "                      Oloroso 30 Years Old V.O.R.S\n",
            "                                   Oloroso En Rama\n",
            "                           Oloroso Extra Viejo 1/7\n",
            "                   Oloroso Tradicion Vors 30 Years\n",
            "                          Onomastica Rioja Reserva\n",
            "                                             Orbus\n",
            "                    Oscar Tobia Gran Reserva Rioja\n",
            "                         Oscar Tobia Reserva Rioja\n",
            "         PS (Pagos Seleccionados) Ribera del Duero\n",
            "                                               PSI\n",
            "                                Pago De Valtarrena\n",
            "                                    Pago El Espino\n",
            "                                      Pago Garduna\n",
            "                                    Pago Negralada\n",
            "                                  Pago Valdebellon\n",
            "                              Pago de Las Costanas\n",
            "              Pago de Otazu Chardonnay Con Crianza\n",
            "                                Pago de Santa Cruz\n",
            "  Pago de Santa Cruz Gran Reserva Ribera del Duero\n",
            "                               Pago de las Sabinas\n",
            "                      Pago de los Balagueses Syrah\n",
            "                                      Pagos Viejos\n",
            "                          Palmeri Navalta Garnacha\n",
            "                                      Palo Cortado\n",
            "                                 Palo Cortado 1/10\n",
            "       Palo Cortado Tradicion Vors 30 Years Sherry\n",
            "                   Palo Cortado de la Cruz de 1767\n",
            "                                          Palomero\n",
            "                                          Pancrudo\n",
            "                                       Pantocrator\n",
            "                            Parcela El Nogal Tinto\n",
            "                            Parcela El Picon Tinto\n",
            "        Parcelas de Maturana Tinta Coleccion Rioja\n",
            "                                     Pedra de Guix\n",
            "    Pedro Ximenez Murillo Seleccion del Centenario\n",
            "          Pedro Ximenez Tradicion 20 Years Old Vos\n",
            "                                       Pena Lobera\n",
            "                              Penalba Lopez Blanco\n",
            "                             Pendon De La Aguilera\n",
            "              Perez Pascuas Gran Reserva Seleccion\n",
            "                              Perfume de Sonsierra\n",
            "                                    Perinet + Plus\n",
            "                                         Perpetual\n",
            "                            Pesus Ribera del Duero\n",
            "                                      Petit Verdot\n",
            "                       Petra de Valpiedra Garnacha\n",
            "                                     Pico de Luyas\n",
            "                                        Pie Franco\n",
            "                                            Pingus\n",
            "                                        Pinot Noir\n",
            "                                            Pirata\n",
            "                            Pla dels Angels Rosado\n",
            "                                          Planella\n",
            "                                   Planots Priorat\n",
            "                                      Platon Tinto\n",
            "                                            Pleret\n",
            "                   Porcellanic VI Xarel-lo Sur Lie\n",
            "                                Porrera Vi de Vila\n",
            "                                         Pozo Alto\n",
            "                           Prado Enea Gran Reserva\n",
            "                                          Preludio\n",
            "                                           Premium\n",
            "                                     Prieto Picudo\n",
            "                                        Primordium\n",
            "                                           Priorat\n",
            "                             Priorat Vinyes Velles\n",
            "                                  Propiedad  Rioja\n",
            "                                     Punta Esencia\n",
            "                       Purgatori Costers del Segre\n",
            "                                                QS\n",
            "                       Que Bonito Cacareaba Blanco\n",
            "                                  Queiron Mi Lugar\n",
            "                Queiron Reserva Vinedos Familiares\n",
            "                                    Quincha Corral\n",
            "                                 Quinon de Valmira\n",
            "                                       Quintanilla\n",
            "                           Rara Avis Prieto Picudo\n",
            "                Recondita Armonia Monastrell Dulce\n",
            "                                               Red\n",
            "                     Regina Vides Ribera del Duero\n",
            "                                 Rejon Tempranillo\n",
            "                      Reliquia Palo Cortado Sherry\n",
            "                                 Resalte Expresion\n",
            "                                           Reserva\n",
            "                                     Reserva 5 Ano\n",
            "                                  Reserva Especial\n",
            "                     Reserva Especial Icon Edition\n",
            "                 Reserva Especial Ribera del Duero\n",
            "                            Reserva Especial Rioja\n",
            "        Reserva Particular de Recaredo Brut Nature\n",
            "                             Reserva Privada Rioja\n",
            "                                      Reserva Real\n",
            "                          Reserva Ribera del Duero\n",
            "                        Reserva Rioja (Finca Ygay)\n",
            "                   Reserva Seleccion de la Familia\n",
            "                               Reserva Tempranillo\n",
            "                                     Reserva Tinto\n",
            "                                  Reserva Trajanvs\n",
            "                             Reserva Vermouth Rojo\n",
            "                                        Reserva XR\n",
            "                                           Respeto\n",
            "                                Respublica Verdejo\n",
            "                    Rias Baixas Albarino Atlantico\n",
            "                Rias Baixas Albarino Finca Valinas\n",
            "                                  Ribas de Cabrera\n",
            "                                  Ribera Del Duero\n",
            "                     Ribera Del Duero Gran Reserva\n",
            "             Ribera Del Duero Gran Reserva 12 Anos\n",
            "                          Ribera Del Duero Reserva\n",
            "           Ribera Del Duero Reserva Premium 6 Anos\n",
            "                                  Ribera del Duero\n",
            "                          Ribera del Duero Crianza\n",
            "                        Ribera del Duero Prestigio\n",
            "    Ribera del Duero Prestigio Pago de las Solanas\n",
            "                              Ribera del Duero Red\n",
            "                          Ribera del Duero Reserva\n",
            "                              Ribera del Duero TSM\n",
            "                            Ribera del Duero Tinto\n",
            "                         Ribera del Duero Torralvo\n",
            "                       Ribera del Duero Una Cepa I\n",
            "            Ribera del Duero Vendimia Seleccionada\n",
            "         Ribera del Duero Vendimia Seleccionada VT\n",
            "                                             Rioja\n",
            "                             Rioja 150 Aniversario\n",
            "                                Rioja Anadas Frias\n",
            "                                         Rioja B70\n",
            "                                      Rioja Blanco\n",
            "                              Rioja Blanco Reserva\n",
            "                                       Rioja Cisma\n",
            "                                    Rioja Graciano\n",
            "                                Rioja Gran Reserva\n",
            "                            Rioja Gran Reserva 904\n",
            "                                       Rioja Norte\n",
            "                                     Rioja Reserva\n",
            "    Rioja Reserva 10 Anos Despues Edicion Limitada\n",
            "                            Rioja Reserva Especial\n",
            "                    Rioja Reserva Fincas de Ganuza\n",
            "                   Rioja Satinela Blanco Semidulce\n",
            "                                Rioja Vina Coqueta\n",
            "                                            Roc Nu\n",
            "                              Roda I Reserva Rioja\n",
            "                                Roda Reserva Rioja\n",
            "                                             Ronda\n",
            "                              Rosado de Larrainzar\n",
            "                                            S'Alou\n",
            "                                        Saca Unica\n",
            "                                            Saktih\n",
            "                                      Salinas 1237\n",
            "                                            Salmos\n",
            "                                           Salvaxe\n",
            "                           San Cucufate Monasterio\n",
            "                            San Valentin Parellada\n",
            "                                 San Vicente Rioja\n",
            "                      Santa Ana Pedro Ximenez 1861\n",
            "                                        Santa Rosa\n",
            "                                     Sao Expressiu\n",
            "                                   Sauvignon Blanc\n",
            "                           Savinat Sauvignon Blanc\n",
            "                               Seda de Oro Reserva\n",
            "                   Seleccio Especial Vinyes Velles\n",
            "                                         Seleccion\n",
            "                                Seleccion Especial\n",
            "                      Seleccion Especial (Reserva)\n",
            "                        Seleccion Especial Verdejo\n",
            "                    Seleccion Finca el Grajo Viejo\n",
            "                             Seleccion La Aguilera\n",
            "                                 Seleccion Privada\n",
            "                                   Seleccion Rioja\n",
            "           Seleccion de Anada Albarino Rias Baixas\n",
            "              Selection 1884 Vermouth Gran Reserva\n",
            "                               Selma de Nin Blanco\n",
            "                         Senda de Los Olivos Roble\n",
            "                       Senorio de Cuzcurrita Rioja\n",
            "                                            Sensal\n",
            "                   Sericis Cepas Viejas Monastrell\n",
            "                       Serral del Vell Brut Nature\n",
            "Sibarita Oloroso Jerez-Xeres-Sherry 30 Years V....\n",
            "                                            Sibila\n",
            "                Silencio de Miros Ribera Del Duero\n",
            "        Silvanus Edicion Limitada Ribera del Duero\n",
            "                                    Singular Negre\n",
            "                       Singular V Malcorta Verdejo\n",
            "                                         Sio Negre\n",
            "                                            Sketch\n",
            "                                             Sofia\n",
            "                                   Solanes Priorat\n",
            "                        Solar de Estraunza Reserva\n",
            "                         Solera 1830 Pedro Ximenez\n",
            "                                     Solera BC-200\n",
            "                  Solera India Oloroso Rare Sherry\n",
            "               Solera PAP Palo Cortado Rare Sherry\n",
            "                                           Solideo\n",
            "                                         Son Negre\n",
            "                         Sorte O Soro Val do Bibei\n",
            "                    St Antoni de Scala Dei Priorat\n",
            "                         Stairway To Heaven Rosado\n",
            "                                      Suane Blanco\n",
            "                            Summa Edicion Limitada\n",
            "                                 Summum Monastrell\n",
            "                                  Suprema 30 Meses\n",
            "                                     Suzzane Rioja\n",
            "                                    Syrah (Shiraz)\n",
            "                                 Syrah de Matasnos\n",
            "    T3rno Seleccion de 3 Parcelas Ribera del Duero\n",
            "                                    Taberner No. 1\n",
            "                          Taberner Tierra de Cadiz\n",
            "                                        Tabuerniga\n",
            "                                       Tadeo Tinto\n",
            "                      Tahulla Moscatel Blanco Seco\n",
            "                                            Teixar\n",
            "                               Tempranillo Reserva\n",
            "                             Teofilo Reyes Crianza\n",
            "                                        Termanthia\n",
            "                              Terras Gauda O Rosal\n",
            "                      Terreus Paraje de Cueva Baja\n",
            "                                         Territori\n",
            "                        Territorio Luthier Reserva\n",
            "                                        The Artist\n",
            "                          Tierra Alta En 2 Maderas\n",
            "                    Tierra Alta de 2 Cotas Reserva\n",
            "             Tierra Alta de 2 Racimos Gran Reserva\n",
            "                           Tierras de Cair Reserva\n",
            "                                  Tintilla de Rota\n",
            "                                             Tinto\n",
            "                                                Tm\n",
            "                                     Tomas Esteban\n",
            "                                  Toneles Moscatel\n",
            "                                              Toro\n",
            "                                   Toro 2V Premium\n",
            "                              Toro Gran Elias Mora\n",
            "            Torre Albeniz Reserva Ribera del Duero\n",
            "                                        Torre Muga\n",
            "           Torremilanos Coleccion Ribera del Duero\n",
            "                                            Touran\n",
            "                           Tras Los Muros Albarino\n",
            "                             Tras da Vina Albarino\n",
            "                                         Trasnocho\n",
            "                                        Treixadura\n",
            "                                            Triaca\n",
            "                                             Triga\n",
            "                                    Turo d'en Mota\n",
            "                          Ultreia Valtuille Mencia\n",
            "                                             Unico\n",
            "                    Unico Reserva Especial Edicion\n",
            "                                         Uno Tinto\n",
            "                                               Uro\n",
            "                                             Usted\n",
            "                               V Dulce de Invierno\n",
            "                                          V2 Tinto\n",
            "                                                VS\n",
            "                                       Valbuena 5o\n",
            "                       Valcavado de Traslascuestas\n",
            "                        Valdafoz Bierzo (Corullon)\n",
            "                     Valdegatiles Ribera del Duero\n",
            "                                        Valdegines\n",
            "                              Vallegarcia Viognier\n",
            "                       Varietal Fermentacion Lenta\n",
            "                         Vatan Arena Tinta de Toro\n",
            "                               Vatan Tinta de Toro\n",
            "                           Vd'O 1 Samso - Pissarra\n",
            "                      Veguin de Murua Gran Reserva\n",
            "                                          Vendetta\n",
            "                                          Vendimia\n",
            "                             Vendimia Seleccionada\n",
            "                          Vendimia Tardia Moscatel\n",
            "                                             Venus\n",
            "                               Venus de la Figuera\n",
            "                                  Veraton Garnacha\n",
            "                                           Verdejo\n",
            "                     Verdejo Fermentado en Barrica\n",
            "                                    Vermello Vermu\n",
            "                                  Vermouth Reserva\n",
            "                                       Vermut Rojo\n",
            "                        Vi De Glass Gewurztraminer\n",
            "                             Vi de Vila Gratallops\n",
            "                                         Victorino\n",
            "                              Vina Alberdi Crianza\n",
            "                              Vina Alberdi Reserva\n",
            "                           Vina Arana Gran Reserva\n",
            "                              Vina Ardanza Reserva\n",
            "           Vina Ardanza Reserva Seleccion Especial\n",
            "                             Vina Bosconia Reserva\n",
            "                            Vina Centenaria Mencia\n",
            "                                     Vina El Pison\n",
            "                                     Vina Garugele\n",
            "                             Vina Lanciano Reserva\n",
            "                                    Vina Motulleri\n",
            "                        Vina Tondonia Gran Reserva\n",
            "                 Vina Tondonia Gran Reserva Blanco\n",
            "                             Vina Tondonia Reserva\n",
            "                      Vina Tondonia Reserva Blanco\n",
            "                    Vina de Martin Escolma Ribeiro\n",
            "                                    Vina del Olivo\n",
            "                                      Vinas Viejas\n",
            "                             Vinas Viejas Aguilera\n",
            "                          Vinas Viejas Tempranillo\n",
            "                              Vinas Viejas Verdejo\n",
            "            Vinas Viejas de Soria Ribera Del Duero\n",
            "                      Vino de Autor Ribeiro Blanco\n",
            "       Vinos Singulares Tempranillo Blanco Reserva\n",
            "                                  Vintage Albarino\n",
            "    Vinya La Scala Gran Reserva Cabernet Sauvignon\n",
            "                              Vinyes Altes Porrera\n",
            "            Vinyes Altes de Les Garrigues Vi Blanc\n",
            "                            Vinyes Velles de Samso\n",
            "                                    Vitium Reserva\n",
            "                                    Vitola Reserva\n",
            "                                          Vobiscum\n",
            "                                           Voltons\n",
            "Whisba Tempranillo Aged 18 Months in Whisky Bar...\n",
            "                              Zona Zepa Monastrell\n",
            "\n",
            "\n",
            "------------------------------------------------------------\n",
            "region\n",
            "                          Abona\n",
            "                         Alella\n",
            "                       Alicante\n",
            "                        Almansa\n",
            "                      Andalucia\n",
            "                         Aragon\n",
            "                       Arinzano\n",
            "                        Arribes\n",
            "                         Bierzo\n",
            "            Binissalem-Mallorca\n",
            "                          Cadiz\n",
            "                      Calatayud\n",
            "                 Campo de Borja\n",
            "                       Carinena\n",
            "                       Castilla\n",
            "                Castilla y Leon\n",
            "                       Cataluna\n",
            "                           Cava\n",
            "                        Cigales\n",
            "               Conca de Barbera\n",
            "              Condado de Huelva\n",
            "              Costers del Segre\n",
            "            Dehesa del Carrizal\n",
            "           Dominio de Valdepusa\n",
            "                   El Terrerazo\n",
            "                        Emporda\n",
            "                    Extremadura\n",
            "                        Galicia\n",
            "                   Gran Canaria\n",
            "              Jerez Amontillado\n",
            "                    Jerez Cream\n",
            "                  Jerez Oloroso\n",
            "             Jerez Palo Cortado\n",
            "       Jerez Pedro Ximenes (PX)\n",
            "             Jerez-Xeres-Sherry\n",
            "                        Jumilla\n",
            "                      La Mancha\n",
            "                       La Palma\n",
            "                         Madrid\n",
            "                         Malaga\n",
            "                       Mallorca\n",
            "                     Manzanilla\n",
            "                       Mentrida\n",
            "                      Monterrei\n",
            "               Montilla-Moriles\n",
            "                       Montsant\n",
            "                         Murcia\n",
            "                        Navarra\n",
            "                          Otazu\n",
            "                Pago Calzadilla\n",
            "                        Penedes\n",
            "                   Pla de Bages\n",
            "                  Pla i Llevant\n",
            "                       Priorato\n",
            "                    Rias Baixas\n",
            "                  Ribeira Sacra\n",
            "                        Ribeiro\n",
            "               Ribera del Duero\n",
            "Ribera del Gallego-Cinco Villas\n",
            "                          Rioja\n",
            "                  Rioja Alavesa\n",
            "                     Rioja Alta\n",
            "                          Rueda\n",
            "                Sardon de Duero\n",
            "              Sierras de Malaga\n",
            "                      Somontano\n",
            "                      Tarragona\n",
            "                     Terra Alta\n",
            "      Tierra del Vino de Zamora\n",
            "                           Toro\n",
            "                  Utiel-Requena\n",
            "                     Valdejalon\n",
            "                     Valdeorras\n",
            "                       Valencia\n",
            "                 Vino de Espana\n",
            "                          Yecla\n",
            "\n",
            "\n",
            "------------------------------------------------------------\n",
            "type\n",
            "            Albarino\n",
            "  Cabernet Sauvignon\n",
            "                Cava\n",
            "          Chardonnay\n",
            "            Grenache\n",
            "              Mencia\n",
            "          Monastrell\n",
            "        Montsant Red\n",
            "       Pedro Ximenez\n",
            "         Priorat Red\n",
            "                 Red\n",
            "Ribera Del Duero Red\n",
            "           Rioja Red\n",
            "         Rioja White\n",
            "     Sauvignon Blanc\n",
            "              Sherry\n",
            "           Sparkling\n",
            "               Syrah\n",
            "         Tempranillo\n",
            "            Toro Red\n",
            "             Verdejo\n",
            "                 NaN\n",
            "\n",
            "\n",
            "------------------------------------------------------------\n"
          ]
        }
      ],
      "source": [
        "pd.set_option('display.max_rows', None)\n",
        "\n",
        "dtypes = dfc.dtypes\n",
        "dfc_obj = dtypes[dtypes=='object'].index\n",
        "for i in dfc_obj:\n",
        "  print(i)\n",
        "  dfs = dfc[i]\n",
        "  dfs.drop_duplicates(inplace = True)\n",
        "  dfs = dfs.sort_values()\n",
        "  print(dfs.to_string(index = False))\n",
        "  print('\\n')\n",
        "  print('---'*20)\n",
        "#https://stackoverflow.com/questions/68291502/expand-value-counts-view\n",
        "#https://stackoverflow.com/questions/24644656/how-to-print-pandas-dataframe-without-index"
      ]
    },
    {
      "cell_type": "markdown",
      "metadata": {
        "id": "Bl6yUUabRqUl"
      },
      "source": [
        "> There are no updates needed."
      ]
    },
    {
      "cell_type": "markdown",
      "metadata": {
        "id": "-KVbS3fWujU8"
      },
      "source": [
        "#Produced univariate visuals for the target and all features."
      ]
    },
    {
      "cell_type": "code",
      "execution_count": 23,
      "metadata": {
        "colab": {
          "base_uri": "https://localhost:8080/"
        },
        "id": "mR3e2WNECyF5",
        "outputId": "11ae3b37-f3e8-4533-ce86-adf647ba2073"
      },
      "outputs": [
        {
          "output_type": "execute_result",
          "data": {
            "text/plain": [
              "wine        847\n",
              "year         70\n",
              "rating        8\n",
              "region       76\n",
              "price      1292\n",
              "type         21\n",
              "body          4\n",
              "acidity       3\n",
              "dtype: int64"
            ]
          },
          "metadata": {},
          "execution_count": 23
        }
      ],
      "source": [
        "dfc.nunique()"
      ]
    },
    {
      "cell_type": "markdown",
      "metadata": {
        "id": "mBSPLcnjGIkh"
      },
      "source": [
        "> Limiting Wine and Region to the top 20 counts because there are too many unique values to graph."
      ]
    },
    {
      "cell_type": "markdown",
      "metadata": {
        "id": "iCX0DRq6fPX5"
      },
      "source": [
        "##Histogram"
      ]
    },
    {
      "cell_type": "code",
      "execution_count": 24,
      "metadata": {
        "id": "TsQkVqab3wbx"
      },
      "outputs": [],
      "source": [
        "#Setting up the filters for the top 20 items per column\n",
        "dfw = dfc['wine']\n",
        "dfw20 = dfw.value_counts().head(20)\n",
        "Winetop20 = dfc.loc[df['wine'].isin(dfw20.index)]\n",
        "\n",
        "dfr = dfc['region']\n",
        "dfr20 = dfr.value_counts().head(20)\n",
        "Regiontop20 = dfc.loc[df['region'].isin(dfr20.index)]\n",
        "\n",
        "#https://stackoverflow.com/questions/45803676/python-pandas-loc-filter-for-list-of-values"
      ]
    },
    {
      "cell_type": "code",
      "execution_count": 25,
      "metadata": {
        "colab": {
          "base_uri": "https://localhost:8080/",
          "height": 703
        },
        "id": "Sw-lehc1sKzC",
        "outputId": "89473ca1-092d-41c1-b1bf-e0a063713337"
      },
      "outputs": [
        {
          "output_type": "display_data",
          "data": {
            "text/plain": [
              "<Figure size 1440x720 with 3 Axes>"
            ],
            "image/png": "[encoded data removed]"
          },
          "metadata": {
            "needs_background": "light"
          }
        }
      ],
      "source": [
        "#Type, Region, Wine, Winery\n",
        "fig, axes = plt.subplots(nrows = 1, ncols=3, figsize=(20,10))\n",
        "#24,30\n",
        "sns.histplot(data = dfc, x = 'type',color= 'b', ax = axes[0])\n",
        "sns.histplot(data = Regiontop20, x = 'region',  color= 'g', ax = axes[1])\n",
        "sns.histplot(data = Winetop20, x = 'wine', color= 'r', ax = axes[2])\n",
        "\n",
        "for x in range(0,3):\n",
        "  axes[x].tick_params(rotation=90) \n",
        "  axes[x].set_ylabel('Count',size = 13)\n",
        "\n",
        "title_list = [(0, 'Count of Spanish Red Wine by Type'),(1,'Count of Spanish Red Wine by Region'),(2, 'Count of Spanish Red Wine by Wine')]\n",
        "for x, n in title_list:\n",
        "  axes[x].set_title(n,size = 16)\n",
        "\n",
        "plt.style.use('seaborn');\n",
        "#xhttps://stackoverflow.com/questions/51933830/using-multiple-variables-in-a-for-loop-in-python"
      ]
    },
    {
      "cell_type": "markdown",
      "metadata": {
        "id": "bzjA5mLMfTAR"
      },
      "source": [
        "##Boxplot"
      ]
    },
    {
      "cell_type": "code",
      "execution_count": 26,
      "metadata": {
        "colab": {
          "base_uri": "https://localhost:8080/",
          "height": 559
        },
        "id": "WHw2b96nXVaD",
        "outputId": "7c71b8e0-00b6-427a-a9a7-76018ee62581"
      },
      "outputs": [
        {
          "output_type": "display_data",
          "data": {
            "text/plain": [
              "<Figure size 1440x720 with 6 Axes>"
            ],
            "image/png": "[encoded data removed]"
          },
          "metadata": {}
        }
      ],
      "source": [
        "#Year, Rating, Price, Body, Acidity\n",
        "fig, axes = plt.subplots(nrows = 2, ncols = 3, figsize = (20,10))\n",
        "\n",
        "sns.boxplot(data=dfc, x = 'rating', notch = True, width = .5, ax = axes[0,0])\n",
        "sns.boxplot(data=dfc, x = 'price', notch = True, width = .5, ax = axes[0,1])\n",
        "sns.boxplot(data=dfc, x = 'year', notch = True, width = .5, ax = axes[0,2])\n",
        "sns.boxplot(data=dfc, x = 'body', notch = True, width = .5, ax = axes[1,0])\n",
        "sns.boxplot(data=dfc, x = 'acidity', notch = True, width = .5, ax = axes[1,1])\n",
        "\n",
        "axes[0,0].set_title('Spanish Wine Rating',size = 16)\n",
        "axes[0,1].set_title('Spanish Wine Price',size=16)\n",
        "axes[0,2].set_title('Spanish Wine Year',size=16)\n",
        "axes[1,0].set_title('Spanish Wine Body',size=16)\n",
        "axes[1,1].set_title('Spanish Wine Acidity',size=16);"
      ]
    },
    {
      "cell_type": "markdown",
      "metadata": {
        "id": "MeVrQ8eHulDE"
      },
      "source": [
        "###Identified outliers.\n"
      ]
    },
    {
      "cell_type": "markdown",
      "metadata": {
        "id": "owyQMQlMZde0"
      },
      "source": [
        "\n",
        "> - The ratings data did not have much of an outlier, with just one at 4.9. \n",
        "- Price on the other hand had quite a few outliers on the higher end. The 75th percentile was 110 but there were outliers that ranged all the way up to 3,119.\n",
        "- Year also had a ton of outliers but on the lower end. The lower whisker was at 2000 but the minimum outlier was 1910.\n",
        "- The Body of wine had a wide range for the 50th to 75th quartile. In terms of outliers, there was one at 2.\n",
        "- Lastly, the acidity was concentrated at 3.00. The outlier was anything that wasn't 3, which concluded in two values 1 and 2."
      ]
    },
    {
      "cell_type": "code",
      "execution_count": 27,
      "metadata": {
        "colab": {
          "base_uri": "https://localhost:8080/",
          "height": 390
        },
        "id": "ZhKifgDwSKtP",
        "outputId": "28743a2f-c89a-461e-8d94-496822185a39"
      },
      "outputs": [
        {
          "output_type": "execute_result",
          "data": {
            "text/plain": [
              "         wine         year       rating            region        price  \\\n",
              "count    2047  1975.000000  2047.000000              2047  2047.000000   \n",
              "unique    847          NaN          NaN                76          NaN   \n",
              "top     Tinto          NaN          NaN  Ribera del Duero          NaN   \n",
              "freq       56          NaN          NaN               541          NaN   \n",
              "mean      NaN  2011.150886     4.401221               NaN   135.288966   \n",
              "std       NaN    11.189739     0.146992               NaN   272.236590   \n",
              "min       NaN  1910.000000     4.200000               NaN     4.990000   \n",
              "25%       NaN  2010.000000     4.300000               NaN    31.911965   \n",
              "50%       NaN  2015.000000     4.400000               NaN    53.700000   \n",
              "75%       NaN  2017.000000     4.500000               NaN   110.000000   \n",
              "max       NaN  2021.000000     4.900000               NaN  3119.080000   \n",
              "\n",
              "                        type         body      acidity  \n",
              "count                   1941  1776.000000  1776.000000  \n",
              "unique                    21          NaN          NaN  \n",
              "top     Ribera Del Duero Red          NaN          NaN  \n",
              "freq                     535          NaN          NaN  \n",
              "mean                     NaN     4.259009     2.921171  \n",
              "std                      NaN     0.652991     0.334802  \n",
              "min                      NaN     2.000000     1.000000  \n",
              "25%                      NaN     4.000000     3.000000  \n",
              "50%                      NaN     4.000000     3.000000  \n",
              "75%                      NaN     5.000000     3.000000  \n",
              "max                      NaN     5.000000     3.000000  "
            ],
            "text/html": [
              "\n",
              "  <div id=\"df-8cbe8453-f942-4158-b338-e1dc3cf4c83c\">\n",
              "    <div class=\"colab-df-container\">\n",
              "      <div>\n",
              "<style scoped>\n",
              "    .dataframe tbody tr th:only-of-type {\n",
              "        vertical-align: middle;\n",
              "    }\n",
              "\n",
              "    .dataframe tbody tr th {\n",
              "        vertical-align: top;\n",
              "    }\n",
              "\n",
              "    .dataframe thead th {\n",
              "        text-align: right;\n",
              "    }\n",
              "</style>\n",
              "<table border=\"1\" class=\"dataframe\">\n",
              "  <thead>\n",
              "    <tr style=\"text-align: right;\">\n",
              "      <th></th>\n",
              "      <th>wine</th>\n",
              "      <th>year</th>\n",
              "      <th>rating</th>\n",
              "      <th>region</th>\n",
              "      <th>price</th>\n",
              "      <th>type</th>\n",
              "      <th>body</th>\n",
              "      <th>acidity</th>\n",
              "    </tr>\n",
              "  </thead>\n",
              "  <tbody>\n",
              "    <tr>\n",
              "      <th>count</th>\n",
              "      <td>2047</td>\n",
              "      <td>1975.000000</td>\n",
              "      <td>2047.000000</td>\n",
              "      <td>2047</td>\n",
              "      <td>2047.000000</td>\n",
              "      <td>1941</td>\n",
              "      <td>1776.000000</td>\n",
              "      <td>1776.000000</td>\n",
              "    </tr>\n",
              "    <tr>\n",
              "      <th>unique</th>\n",
              "      <td>847</td>\n",
              "      <td>NaN</td>\n",
              "      <td>NaN</td>\n",
              "      <td>76</td>\n",
              "      <td>NaN</td>\n",
              "      <td>21</td>\n",
              "      <td>NaN</td>\n",
              "      <td>NaN</td>\n",
              "    </tr>\n",
              "    <tr>\n",
              "      <th>top</th>\n",
              "      <td>Tinto</td>\n",
              "      <td>NaN</td>\n",
              "      <td>NaN</td>\n",
              "      <td>Ribera del Duero</td>\n",
              "      <td>NaN</td>\n",
              "      <td>Ribera Del Duero Red</td>\n",
              "      <td>NaN</td>\n",
              "      <td>NaN</td>\n",
              "    </tr>\n",
              "    <tr>\n",
              "      <th>freq</th>\n",
              "      <td>56</td>\n",
              "      <td>NaN</td>\n",
              "      <td>NaN</td>\n",
              "      <td>541</td>\n",
              "      <td>NaN</td>\n",
              "      <td>535</td>\n",
              "      <td>NaN</td>\n",
              "      <td>NaN</td>\n",
              "    </tr>\n",
              "    <tr>\n",
              "      <th>mean</th>\n",
              "      <td>NaN</td>\n",
              "      <td>2011.150886</td>\n",
              "      <td>4.401221</td>\n",
              "      <td>NaN</td>\n",
              "      <td>135.288966</td>\n",
              "      <td>NaN</td>\n",
              "      <td>4.259009</td>\n",
              "      <td>2.921171</td>\n",
              "    </tr>\n",
              "    <tr>\n",
              "      <th>std</th>\n",
              "      <td>NaN</td>\n",
              "      <td>11.189739</td>\n",
              "      <td>0.146992</td>\n",
              "      <td>NaN</td>\n",
              "      <td>272.236590</td>\n",
              "      <td>NaN</td>\n",
              "      <td>0.652991</td>\n",
              "      <td>0.334802</td>\n",
              "    </tr>\n",
              "    <tr>\n",
              "      <th>min</th>\n",
              "      <td>NaN</td>\n",
              "      <td>1910.000000</td>\n",
              "      <td>4.200000</td>\n",
              "      <td>NaN</td>\n",
              "      <td>4.990000</td>\n",
              "      <td>NaN</td>\n",
              "      <td>2.000000</td>\n",
              "      <td>1.000000</td>\n",
              "    </tr>\n",
              "    <tr>\n",
              "      <th>25%</th>\n",
              "      <td>NaN</td>\n",
              "      <td>2010.000000</td>\n",
              "      <td>4.300000</td>\n",
              "      <td>NaN</td>\n",
              "      <td>31.911965</td>\n",
              "      <td>NaN</td>\n",
              "      <td>4.000000</td>\n",
              "      <td>3.000000</td>\n",
              "    </tr>\n",
              "    <tr>\n",
              "      <th>50%</th>\n",
              "      <td>NaN</td>\n",
              "      <td>2015.000000</td>\n",
              "      <td>4.400000</td>\n",
              "      <td>NaN</td>\n",
              "      <td>53.700000</td>\n",
              "      <td>NaN</td>\n",
              "      <td>4.000000</td>\n",
              "      <td>3.000000</td>\n",
              "    </tr>\n",
              "    <tr>\n",
              "      <th>75%</th>\n",
              "      <td>NaN</td>\n",
              "      <td>2017.000000</td>\n",
              "      <td>4.500000</td>\n",
              "      <td>NaN</td>\n",
              "      <td>110.000000</td>\n",
              "      <td>NaN</td>\n",
              "      <td>5.000000</td>\n",
              "      <td>3.000000</td>\n",
              "    </tr>\n",
              "    <tr>\n",
              "      <th>max</th>\n",
              "      <td>NaN</td>\n",
              "      <td>2021.000000</td>\n",
              "      <td>4.900000</td>\n",
              "      <td>NaN</td>\n",
              "      <td>3119.080000</td>\n",
              "      <td>NaN</td>\n",
              "      <td>5.000000</td>\n",
              "      <td>3.000000</td>\n",
              "    </tr>\n",
              "  </tbody>\n",
              "</table>\n",
              "</div>\n",
              "      <button class=\"colab-df-convert\" onclick=\"convertToInteractive('df-8cbe8453-f942-4158-b338-e1dc3cf4c83c')\"\n",
              "              title=\"Convert this dataframe to an interactive table.\"\n",
              "              style=\"display:none;\">\n",
              "        \n",
              "  <svg xmlns=\"http://www.w3.org/2000/svg\" height=\"24px\"viewBox=\"0 0 24 24\"\n",
              "       width=\"24px\">\n",
              "    <path d=\"M0 0h24v24H0V0z\" fill=\"none\"/>\n",
              "    <path d=\"M18.56 5.44l.94 2.06.94-2.06 2.06-.94-2.06-.94-.94-2.06-.94 2.06-2.06.94zm-11 1L8.5 8.5l.94-2.06 2.06-.94-2.06-.94L8.5 2.5l-.94 2.06-2.06.94zm10 10l.94 2.06.94-2.06 2.06-.94-2.06-.94-.94-2.06-.94 2.06-2.06.94z\"/><path d=\"M17.41 7.96l-1.37-1.37c-.4-.4-.92-.59-1.43-.59-.52 0-1.04.2-1.43.59L10.3 9.45l-7.72 7.72c-.78.78-.78 2.05 0 2.83L4 21.41c.39.39.9.59 1.41.59.51 0 1.02-.2 1.41-.59l7.78-7.78 2.81-2.81c.8-.78.8-2.07 0-2.86zM5.41 20L4 18.59l7.72-7.72 1.47 1.35L5.41 20z\"/>\n",
              "  </svg>\n",
              "      </button>\n",
              "      \n",
              "  <style>\n",
              "    .colab-df-container {\n",
              "      display:flex;\n",
              "      flex-wrap:wrap;\n",
              "      gap: 12px;\n",
              "    }\n",
              "\n",
              "    .colab-df-convert {\n",
              "      background-color: #E8F0FE;\n",
              "      border: none;\n",
              "      border-radius: 50%;\n",
              "      cursor: pointer;\n",
              "      display: none;\n",
              "      fill: #1967D2;\n",
              "      height: 32px;\n",
              "      padding: 0 0 0 0;\n",
              "      width: 32px;\n",
              "    }\n",
              "\n",
              "    .colab-df-convert:hover {\n",
              "      background-color: #E2EBFA;\n",
              "      box-shadow: 0px 1px 2px rgba(60, 64, 67, 0.3), 0px 1px 3px 1px rgba(60, 64, 67, 0.15);\n",
              "      fill: #174EA6;\n",
              "    }\n",
              "\n",
              "    [theme=dark] .colab-df-convert {\n",
              "      background-color: #3B4455;\n",
              "      fill: #D2E3FC;\n",
              "    }\n",
              "\n",
              "    [theme=dark] .colab-df-convert:hover {\n",
              "      background-color: #434B5C;\n",
              "      box-shadow: 0px 1px 3px 1px rgba(0, 0, 0, 0.15);\n",
              "      filter: drop-shadow(0px 1px 2px rgba(0, 0, 0, 0.3));\n",
              "      fill: #FFFFFF;\n",
              "    }\n",
              "  </style>\n",
              "\n",
              "      <script>\n",
              "        const buttonEl =\n",
              "          document.querySelector('#df-8cbe8453-f942-4158-b338-e1dc3cf4c83c button.colab-df-convert');\n",
              "        buttonEl.style.display =\n",
              "          google.colab.kernel.accessAllowed ? 'block' : 'none';\n",
              "\n",
              "        async function convertToInteractive(key) {\n",
              "          const element = document.querySelector('#df-8cbe8453-f942-4158-b338-e1dc3cf4c83c');\n",
              "          const dataTable =\n",
              "            await google.colab.kernel.invokeFunction('convertToInteractive',\n",
              "                                                     [key], {});\n",
              "          if (!dataTable) return;\n",
              "\n",
              "          const docLinkHtml = 'Like what you see? Visit the ' +\n",
              "            '<a target=\"_blank\" href=https://colab.research.google.com/notebooks/data_table.ipynb>data table notebook</a>'\n",
              "            + ' to learn more about interactive tables.';\n",
              "          element.innerHTML = '';\n",
              "          dataTable['output_type'] = 'display_data';\n",
              "          await google.colab.output.renderOutput(dataTable, element);\n",
              "          const docLink = document.createElement('div');\n",
              "          docLink.innerHTML = docLinkHtml;\n",
              "          element.appendChild(docLink);\n",
              "        }\n",
              "      </script>\n",
              "    </div>\n",
              "  </div>\n",
              "  "
            ]
          },
          "metadata": {},
          "execution_count": 27
        }
      ],
      "source": [
        "dfc.describe(include='all')"
      ]
    },
    {
      "cell_type": "markdown",
      "metadata": {
        "id": "OJbwuODcrBqe"
      },
      "source": [
        "#Correlation Observation"
      ]
    },
    {
      "cell_type": "code",
      "execution_count": 28,
      "metadata": {
        "colab": {
          "base_uri": "https://localhost:8080/",
          "height": 351
        },
        "id": "8SwqFIicpw0d",
        "outputId": "d3c76df1-6265-4b8e-8dd2-742dda3b3ce9"
      },
      "outputs": [
        {
          "output_type": "display_data",
          "data": {
            "text/plain": [
              "<Figure size 576x396 with 2 Axes>"
            ],
            "image/png": "[encoded data removed]"
          },
          "metadata": {}
        }
      ],
      "source": [
        "sns.heatmap(dfc.corr(), cmap = 'Greens',annot=True);"
      ]
    },
    {
      "cell_type": "markdown",
      "metadata": {
        "id": "wGm4xLNy8nZG"
      },
      "source": [
        "> Our target, y, is rating and according to the heatmap above, it has a moderate correlation of 0.51 with price. It has some positive correlation with body at 0.21 and negative correlation with year. There is no correlation with acidity. "
      ]
    },
    {
      "cell_type": "markdown",
      "metadata": {
        "id": "FsPIJT4Z9MRz"
      },
      "source": [
        "#Multivariate exploratory visuals"
      ]
    },
    {
      "cell_type": "code",
      "execution_count": 29,
      "metadata": {
        "colab": {
          "base_uri": "https://localhost:8080/"
        },
        "id": "uFr87pX1cVZ_",
        "outputId": "bf07b038-3d97-43ce-a68d-89e0d54ac507"
      },
      "outputs": [
        {
          "output_type": "stream",
          "name": "stdout",
          "text": [
            "<class 'pandas.core.frame.DataFrame'>\n",
            "Int64Index: 2047 entries, 0 to 6100\n",
            "Data columns (total 8 columns):\n",
            " #   Column   Non-Null Count  Dtype  \n",
            "---  ------   --------------  -----  \n",
            " 0   wine     2047 non-null   object \n",
            " 1   year     1975 non-null   float64\n",
            " 2   rating   2047 non-null   float64\n",
            " 3   region   2047 non-null   object \n",
            " 4   price    2047 non-null   float64\n",
            " 5   type     1941 non-null   object \n",
            " 6   body     1776 non-null   float64\n",
            " 7   acidity  1776 non-null   float64\n",
            "dtypes: float64(5), object(3)\n",
            "memory usage: 143.9+ KB\n"
          ]
        }
      ],
      "source": [
        "dfc.info()"
      ]
    },
    {
      "cell_type": "markdown",
      "metadata": {
        "id": "V3Fm_ozEc5b0"
      },
      "source": [
        "##Scatterplot"
      ]
    },
    {
      "cell_type": "code",
      "execution_count": 30,
      "metadata": {
        "colab": {
          "base_uri": "https://localhost:8080/",
          "height": 304
        },
        "id": "OaXfHR0ebsrm",
        "outputId": "5ff4c1cb-90df-440b-a268-9c28d26db8ee"
      },
      "outputs": [
        {
          "output_type": "display_data",
          "data": {
            "text/plain": [
              "<Figure size 864x288 with 1 Axes>"
            ],
            "image/png": "[encoded data removed]"
          },
          "metadata": {}
        }
      ],
      "source": [
        "#Price v. Rating\n",
        "fig, ax = plt.subplots(ncols=1, figsize=(12,4))\n",
        "\n",
        "ax = sns.scatterplot(data=dfc, x = 'rating',y = 'price')\n",
        "ax.set_xlabel('Rating',fontsize = 15)\n",
        "ax.set_ylabel('Price',fontsize = 15)\n",
        "ax.set_title('Rating v. Price',fontsize = 20);"
      ]
    },
    {
      "cell_type": "markdown",
      "metadata": {
        "id": "7zXIvaLXfh-J"
      },
      "source": [
        "> Based on the heatmap, Rating and Price had a 0.51 correlation. For the scatterplot, it does seem like the higher rated wine is not entirely the most expensive. However, the more expensive wine is rated better than the average of 4.4."
      ]
    },
    {
      "cell_type": "markdown",
      "metadata": {
        "id": "mkVmafu0e9Vw"
      },
      "source": [
        "##Bar Plot"
      ]
    },
    {
      "cell_type": "code",
      "execution_count": 31,
      "metadata": {
        "colab": {
          "base_uri": "https://localhost:8080/",
          "height": 393
        },
        "id": "AGjSbqzjSazm",
        "outputId": "6b7660c8-9213-4895-df39-5c0bbc4717dc"
      },
      "outputs": [
        {
          "output_type": "display_data",
          "data": {
            "text/plain": [
              "<Figure size 864x288 with 1 Axes>"
            ],
            "image/png": "[encoded data removed]"
          },
          "metadata": {}
        }
      ],
      "source": [
        "#Type v. Rating\n",
        "fig, ax = plt.subplots(ncols=1, figsize=(12,4))\n",
        "\n",
        "ax = sns.barplot(data=dfc, x='type', y = 'rating')\n",
        "\n",
        "ax.tick_params(axis='x', rotation=90)\n",
        "ax.set_ylabel('Avg. Rating',fontsize = 15)\n",
        "ax.set_xlabel('Type',fontsize = 15)\n",
        "ax.set_title('Average Rating by Type',fontsize = 20)\n",
        "plt.ylim(4,5);"
      ]
    },
    {
      "cell_type": "markdown",
      "metadata": {
        "id": "wM8It7MBk-Lw"
      },
      "source": [
        "> In terms of Wine types, Pedro Ximenez had an average rating above all other wine types. Coming in behind was Toto Red, Tempranillo, and Ribera Del Duero Red."
      ]
    },
    {
      "cell_type": "markdown",
      "metadata": {
        "id": "cYuaRTPLEHcI"
      },
      "source": [
        "#Model Development"
      ]
    },
    {
      "cell_type": "markdown",
      "source": [
        "##Prepare Model"
      ],
      "metadata": {
        "id": "qTkr0-eppUkV"
      }
    },
    {
      "cell_type": "markdown",
      "metadata": {
        "id": "c1uHTJhOEPB1"
      },
      "source": [
        "###Import libraries"
      ]
    },
    {
      "cell_type": "code",
      "execution_count": 156,
      "metadata": {
        "id": "ZYiNiCaZgSf_"
      },
      "outputs": [],
      "source": [
        "from sklearn.model_selection import train_test_split\n",
        "from sklearn.preprocessing import StandardScaler, OneHotEncoder\n",
        "from sklearn.compose import make_column_selector, make_column_transformer\n",
        "from sklearn.impute import SimpleImputer\n",
        "from sklearn.pipeline import make_pipeline\n",
        "from sklearn import set_config\n",
        "set_config(display='diagram')\n",
        "\n",
        "from sklearn.linear_model import LogisticRegression\n",
        "from sklearn.tree import DecisionTreeClassifier\n",
        "from sklearn.neighbors import KNeighborsClassifier\n",
        "from sklearn.ensemble import RandomForestClassifier\n",
        "\n",
        "from sklearn.metrics import ConfusionMatrixDisplay\n",
        "from sklearn.metrics import classification_report\n",
        "from sklearn.model_selection import GridSearchCV\n",
        "\n",
        "from sklearn.decomposition import PCA"
      ]
    },
    {
      "cell_type": "markdown",
      "metadata": {
        "id": "MoKawlqDGR2F"
      },
      "source": [
        "###Train the data"
      ]
    },
    {
      "cell_type": "code",
      "execution_count": 33,
      "metadata": {
        "id": "4VcvYaNYCIap"
      },
      "outputs": [],
      "source": [
        "y = dfc['rating']\n",
        "X = dfc.drop(columns = 'rating')"
      ]
    },
    {
      "cell_type": "code",
      "execution_count": 34,
      "metadata": {
        "colab": {
          "base_uri": "https://localhost:8080/"
        },
        "id": "1MMAu7_cOKAa",
        "outputId": "54907e1a-b53c-4f04-93ef-8c5262146fd6"
      },
      "outputs": [
        {
          "output_type": "execute_result",
          "data": {
            "text/plain": [
              "array([9., 8., 7., 6., 5., 4., 3., 2.])"
            ]
          },
          "metadata": {},
          "execution_count": 34
        }
      ],
      "source": [
        "y.replace({4.2:2,4.3:3,4.4:4,4.5:5,4.6:6,4.7:7,4.8:8,4.9:9}, inplace = True)\n",
        "y.unique()"
      ]
    },
    {
      "cell_type": "code",
      "execution_count": 35,
      "metadata": {
        "id": "bndL9TX1Fl4J"
      },
      "outputs": [],
      "source": [
        "X_train, X_test, y_train, y_test = train_test_split(X,y,random_state=42)"
      ]
    },
    {
      "cell_type": "markdown",
      "source": [
        "##Preprocessor"
      ],
      "metadata": {
        "id": "T52gig-76u81"
      }
    },
    {
      "cell_type": "code",
      "execution_count": 36,
      "metadata": {
        "id": "cIkY1-wJFnsv"
      },
      "outputs": [],
      "source": [
        "scaler = StandardScaler()\n",
        "ohe = OneHotEncoder(handle_unknown='ignore', sparse=False)\n",
        "\n",
        "obj_selector = make_column_selector(dtype_include='object')\n",
        "num_selector = make_column_selector(dtype_include='number')\n",
        "\n",
        "median_imputer = SimpleImputer(strategy='median')\n",
        "freq_imputer = SimpleImputer(strategy='most_frequent')"
      ]
    },
    {
      "cell_type": "code",
      "execution_count": 37,
      "metadata": {
        "colab": {
          "base_uri": "https://localhost:8080/",
          "height": 149
        },
        "id": "UPzzgGyaHjTG",
        "outputId": "ffefd8c5-96aa-42d2-e95b-da691cb48003"
      },
      "outputs": [
        {
          "output_type": "execute_result",
          "data": {
            "text/plain": [
              "ColumnTransformer(transformers=[('pipeline-1',\n",
              "                                 Pipeline(steps=[('simpleimputer',\n",
              "                                                  SimpleImputer(strategy='most_frequent')),\n",
              "                                                 ('onehotencoder',\n",
              "                                                  OneHotEncoder(handle_unknown='ignore',\n",
              "                                                                sparse=False))]),\n",
              "                                 <sklearn.compose._column_transformer.make_column_selector object at 0x7f3c91d1ee50>),\n",
              "                                ('pipeline-2',\n",
              "                                 Pipeline(steps=[('simpleimputer',\n",
              "                                                  SimpleImputer(strategy='median')),\n",
              "                                                 ('standardscaler',\n",
              "                                                  StandardScaler())]),\n",
              "                                 <sklearn.compose._column_transformer.make_column_selector object at 0x7f3c91d1ecd0>)])"
            ],
            "text/html": [
              "<style>#sk-414ba774-d1cb-4239-9669-059c50dddfbf {color: black;background-color: white;}#sk-414ba774-d1cb-4239-9669-059c50dddfbf pre{padding: 0;}#sk-414ba774-d1cb-4239-9669-059c50dddfbf div.sk-toggleable {background-color: white;}#sk-414ba774-d1cb-4239-9669-059c50dddfbf label.sk-toggleable__label {cursor: pointer;display: block;width: 100%;margin-bottom: 0;padding: 0.3em;box-sizing: border-box;text-align: center;}#sk-414ba774-d1cb-4239-9669-059c50dddfbf label.sk-toggleable__label-arrow:before {content: \"▸\";float: left;margin-right: 0.25em;color: #696969;}#sk-414ba774-d1cb-4239-9669-059c50dddfbf label.sk-toggleable__label-arrow:hover:before {color: black;}#sk-414ba774-d1cb-4239-9669-059c50dddfbf div.sk-estimator:hover label.sk-toggleable__label-arrow:before {color: black;}#sk-414ba774-d1cb-4239-9669-059c50dddfbf div.sk-toggleable__content {max-height: 0;max-width: 0;overflow: hidden;text-align: left;background-color: #f0f8ff;}#sk-414ba774-d1cb-4239-9669-059c50dddfbf div.sk-toggleable__content pre {margin: 0.2em;color: black;border-radius: 0.25em;background-color: #f0f8ff;}#sk-414ba774-d1cb-4239-9669-059c50dddfbf input.sk-toggleable__control:checked~div.sk-toggleable__content {max-height: 200px;max-width: 100%;overflow: auto;}#sk-414ba774-d1cb-4239-9669-059c50dddfbf input.sk-toggleable__control:checked~label.sk-toggleable__label-arrow:before {content: \"▾\";}#sk-414ba774-d1cb-4239-9669-059c50dddfbf div.sk-estimator input.sk-toggleable__control:checked~label.sk-toggleable__label {background-color: #d4ebff;}#sk-414ba774-d1cb-4239-9669-059c50dddfbf div.sk-label input.sk-toggleable__control:checked~label.sk-toggleable__label {background-color: #d4ebff;}#sk-414ba774-d1cb-4239-9669-059c50dddfbf input.sk-hidden--visually {border: 0;clip: rect(1px 1px 1px 1px);clip: rect(1px, 1px, 1px, 1px);height: 1px;margin: -1px;overflow: hidden;padding: 0;position: absolute;width: 1px;}#sk-414ba774-d1cb-4239-9669-059c50dddfbf div.sk-estimator {font-family: monospace;background-color: #f0f8ff;border: 1px dotted black;border-radius: 0.25em;box-sizing: border-box;margin-bottom: 0.5em;}#sk-414ba774-d1cb-4239-9669-059c50dddfbf div.sk-estimator:hover {background-color: #d4ebff;}#sk-414ba774-d1cb-4239-9669-059c50dddfbf div.sk-parallel-item::after {content: \"\";width: 100%;border-bottom: 1px solid gray;flex-grow: 1;}#sk-414ba774-d1cb-4239-9669-059c50dddfbf div.sk-label:hover label.sk-toggleable__label {background-color: #d4ebff;}#sk-414ba774-d1cb-4239-9669-059c50dddfbf div.sk-serial::before {content: \"\";position: absolute;border-left: 1px solid gray;box-sizing: border-box;top: 2em;bottom: 0;left: 50%;}#sk-414ba774-d1cb-4239-9669-059c50dddfbf div.sk-serial {display: flex;flex-direction: column;align-items: center;background-color: white;padding-right: 0.2em;padding-left: 0.2em;}#sk-414ba774-d1cb-4239-9669-059c50dddfbf div.sk-item {z-index: 1;}#sk-414ba774-d1cb-4239-9669-059c50dddfbf div.sk-parallel {display: flex;align-items: stretch;justify-content: center;background-color: white;}#sk-414ba774-d1cb-4239-9669-059c50dddfbf div.sk-parallel::before {content: \"\";position: absolute;border-left: 1px solid gray;box-sizing: border-box;top: 2em;bottom: 0;left: 50%;}#sk-414ba774-d1cb-4239-9669-059c50dddfbf div.sk-parallel-item {display: flex;flex-direction: column;position: relative;background-color: white;}#sk-414ba774-d1cb-4239-9669-059c50dddfbf div.sk-parallel-item:first-child::after {align-self: flex-end;width: 50%;}#sk-414ba774-d1cb-4239-9669-059c50dddfbf div.sk-parallel-item:last-child::after {align-self: flex-start;width: 50%;}#sk-414ba774-d1cb-4239-9669-059c50dddfbf div.sk-parallel-item:only-child::after {width: 0;}#sk-414ba774-d1cb-4239-9669-059c50dddfbf div.sk-dashed-wrapped {border: 1px dashed gray;margin: 0 0.4em 0.5em 0.4em;box-sizing: border-box;padding-bottom: 0.4em;background-color: white;position: relative;}#sk-414ba774-d1cb-4239-9669-059c50dddfbf div.sk-label label {font-family: monospace;font-weight: bold;background-color: white;display: inline-block;line-height: 1.2em;}#sk-414ba774-d1cb-4239-9669-059c50dddfbf div.sk-label-container {position: relative;z-index: 2;text-align: center;}#sk-414ba774-d1cb-4239-9669-059c50dddfbf div.sk-container {/* jupyter's `normalize.less` sets `[hidden] { display: none; }` but bootstrap.min.css set `[hidden] { display: none !important; }` so we also need the `!important` here to be able to override the default hidden behavior on the sphinx rendered scikit-learn.org. See: https://github.com/scikit-learn/scikit-learn/issues/21755 */display: inline-block !important;position: relative;}#sk-414ba774-d1cb-4239-9669-059c50dddfbf div.sk-text-repr-fallback {display: none;}</style><div id=\"sk-414ba774-d1cb-4239-9669-059c50dddfbf\" class=\"sk-top-container\"><div class=\"sk-text-repr-fallback\"><pre>ColumnTransformer(transformers=[(&#x27;pipeline-1&#x27;,\n",
              "                                 Pipeline(steps=[(&#x27;simpleimputer&#x27;,\n",
              "                                                  SimpleImputer(strategy=&#x27;most_frequent&#x27;)),\n",
              "                                                 (&#x27;onehotencoder&#x27;,\n",
              "                                                  OneHotEncoder(handle_unknown=&#x27;ignore&#x27;,\n",
              "                                                                sparse=False))]),\n",
              "                                 &lt;sklearn.compose._column_transformer.make_column_selector object at 0x7f3c91d1ee50&gt;),\n",
              "                                (&#x27;pipeline-2&#x27;,\n",
              "                                 Pipeline(steps=[(&#x27;simpleimputer&#x27;,\n",
              "                                                  SimpleImputer(strategy=&#x27;median&#x27;)),\n",
              "                                                 (&#x27;standardscaler&#x27;,\n",
              "                                                  StandardScaler())]),\n",
              "                                 &lt;sklearn.compose._column_transformer.make_column_selector object at 0x7f3c91d1ecd0&gt;)])</pre><b>Please rerun this cell to show the HTML repr or trust the notebook.</b></div><div class=\"sk-container\" hidden><div class=\"sk-item sk-dashed-wrapped\"><div class=\"sk-label-container\"><div class=\"sk-label sk-toggleable\"><input class=\"sk-toggleable__control sk-hidden--visually\" id=\"bdf409bb-c935-4fc1-9f3d-96909b649074\" type=\"checkbox\" ><label for=\"bdf409bb-c935-4fc1-9f3d-96909b649074\" class=\"sk-toggleable__label sk-toggleable__label-arrow\">ColumnTransformer</label><div class=\"sk-toggleable__content\"><pre>ColumnTransformer(transformers=[(&#x27;pipeline-1&#x27;,\n",
              "                                 Pipeline(steps=[(&#x27;simpleimputer&#x27;,\n",
              "                                                  SimpleImputer(strategy=&#x27;most_frequent&#x27;)),\n",
              "                                                 (&#x27;onehotencoder&#x27;,\n",
              "                                                  OneHotEncoder(handle_unknown=&#x27;ignore&#x27;,\n",
              "                                                                sparse=False))]),\n",
              "                                 &lt;sklearn.compose._column_transformer.make_column_selector object at 0x7f3c91d1ee50&gt;),\n",
              "                                (&#x27;pipeline-2&#x27;,\n",
              "                                 Pipeline(steps=[(&#x27;simpleimputer&#x27;,\n",
              "                                                  SimpleImputer(strategy=&#x27;median&#x27;)),\n",
              "                                                 (&#x27;standardscaler&#x27;,\n",
              "                                                  StandardScaler())]),\n",
              "                                 &lt;sklearn.compose._column_transformer.make_column_selector object at 0x7f3c91d1ecd0&gt;)])</pre></div></div></div><div class=\"sk-parallel\"><div class=\"sk-parallel-item\"><div class=\"sk-item\"><div class=\"sk-label-container\"><div class=\"sk-label sk-toggleable\"><input class=\"sk-toggleable__control sk-hidden--visually\" id=\"f2e498b0-0894-4636-b752-7e561fa9bb36\" type=\"checkbox\" ><label for=\"f2e498b0-0894-4636-b752-7e561fa9bb36\" class=\"sk-toggleable__label sk-toggleable__label-arrow\">pipeline-1</label><div class=\"sk-toggleable__content\"><pre>&lt;sklearn.compose._column_transformer.make_column_selector object at 0x7f3c91d1ee50&gt;</pre></div></div></div><div class=\"sk-serial\"><div class=\"sk-item\"><div class=\"sk-serial\"><div class=\"sk-item\"><div class=\"sk-estimator sk-toggleable\"><input class=\"sk-toggleable__control sk-hidden--visually\" id=\"bbeac552-eb56-4349-ada9-2de285003661\" type=\"checkbox\" ><label for=\"bbeac552-eb56-4349-ada9-2de285003661\" class=\"sk-toggleable__label sk-toggleable__label-arrow\">SimpleImputer</label><div class=\"sk-toggleable__content\"><pre>SimpleImputer(strategy=&#x27;most_frequent&#x27;)</pre></div></div></div><div class=\"sk-item\"><div class=\"sk-estimator sk-toggleable\"><input class=\"sk-toggleable__control sk-hidden--visually\" id=\"5a9f2c55-5265-4189-80e0-a38ba74c617e\" type=\"checkbox\" ><label for=\"5a9f2c55-5265-4189-80e0-a38ba74c617e\" class=\"sk-toggleable__label sk-toggleable__label-arrow\">OneHotEncoder</label><div class=\"sk-toggleable__content\"><pre>OneHotEncoder(handle_unknown=&#x27;ignore&#x27;, sparse=False)</pre></div></div></div></div></div></div></div></div><div class=\"sk-parallel-item\"><div class=\"sk-item\"><div class=\"sk-label-container\"><div class=\"sk-label sk-toggleable\"><input class=\"sk-toggleable__control sk-hidden--visually\" id=\"4ded0e35-7217-4035-9886-bceb13f77a8d\" type=\"checkbox\" ><label for=\"4ded0e35-7217-4035-9886-bceb13f77a8d\" class=\"sk-toggleable__label sk-toggleable__label-arrow\">pipeline-2</label><div class=\"sk-toggleable__content\"><pre>&lt;sklearn.compose._column_transformer.make_column_selector object at 0x7f3c91d1ecd0&gt;</pre></div></div></div><div class=\"sk-serial\"><div class=\"sk-item\"><div class=\"sk-serial\"><div class=\"sk-item\"><div class=\"sk-estimator sk-toggleable\"><input class=\"sk-toggleable__control sk-hidden--visually\" id=\"98dfb351-958c-43af-97de-be968a1560d5\" type=\"checkbox\" ><label for=\"98dfb351-958c-43af-97de-be968a1560d5\" class=\"sk-toggleable__label sk-toggleable__label-arrow\">SimpleImputer</label><div class=\"sk-toggleable__content\"><pre>SimpleImputer(strategy=&#x27;median&#x27;)</pre></div></div></div><div class=\"sk-item\"><div class=\"sk-estimator sk-toggleable\"><input class=\"sk-toggleable__control sk-hidden--visually\" id=\"68783585-9142-4d05-ab48-024d7620d39b\" type=\"checkbox\" ><label for=\"68783585-9142-4d05-ab48-024d7620d39b\" class=\"sk-toggleable__label sk-toggleable__label-arrow\">StandardScaler</label><div class=\"sk-toggleable__content\"><pre>StandardScaler()</pre></div></div></div></div></div></div></div></div></div></div></div></div>"
            ]
          },
          "metadata": {},
          "execution_count": 37
        }
      ],
      "source": [
        "obj_pipe = make_pipeline(freq_imputer, ohe)\n",
        "num_pipe = make_pipeline(median_imputer, scaler)\n",
        "\n",
        "obj_tuple = (obj_pipe,obj_selector)\n",
        "num_tuple = (num_pipe,num_selector)\n",
        "\n",
        "preprocessor = make_column_transformer(obj_tuple,num_tuple)\n",
        "preprocessor"
      ]
    },
    {
      "cell_type": "code",
      "source": [
        "def evaluate_classification(model): \n",
        "                             \n",
        "    pipeline = make_pipeline(preprocessor,model)\n",
        "    pipeline.fit(X_train,y_train)\n",
        "\n",
        "    # Predictions\n",
        "    y_pred1 = pipeline.predict(X_train)\n",
        "    y_pred2 = pipeline.predict(X_test)\n",
        "\n",
        "    # Classification report for the test data\n",
        "    print('CLASSIFICATION REPORT FOR: TRAIN')\n",
        "    print(classification_report(y_train, y_pred1))\n",
        "    print('---'*20)\n",
        "    print('CLASSIFICATION REPORT FOR: TEST')\n",
        "    print(classification_report(y_test, y_pred2))\n",
        "    \n",
        "    # Confusion Matrix\n",
        "    print('---'*20)\n",
        "    print('CONFUSION MATRIX: TEST')\n",
        "    ConfusionMatrixDisplay.from_predictions(y_test, y_pred2, cmap ='Greens', normalize ='true');"
      ],
      "metadata": {
        "id": "Famzr2UZ7fcC"
      },
      "execution_count": 134,
      "outputs": []
    },
    {
      "cell_type": "code",
      "source": [
        "import warnings\n",
        "warnings.filterwarnings(\"ignore\")\n",
        "\n",
        "#https://stackoverflow.com/questions/14463277/how-to-disable-python-warnings"
      ],
      "metadata": {
        "id": "ZX29oN9rETYJ"
      },
      "execution_count": 116,
      "outputs": []
    },
    {
      "cell_type": "markdown",
      "metadata": {
        "id": "9li3hAjOJAec"
      },
      "source": [
        "##Logistic Regression"
      ]
    },
    {
      "cell_type": "code",
      "source": [
        "logreg = LogisticRegression()\n",
        "\n",
        "evaluate_classification(logreg)"
      ],
      "metadata": {
        "colab": {
          "base_uri": "https://localhost:8080/",
          "height": 940
        },
        "id": "P_qx-Jua_SWp",
        "outputId": "93d1984a-f9a3-41cd-8d4f-b90cbb11b636"
      },
      "execution_count": 119,
      "outputs": [
        {
          "output_type": "stream",
          "name": "stdout",
          "text": [
            "CLASSIFICATION REPORT FOR: TRAIN\n",
            "              precision    recall  f1-score   support\n",
            "\n",
            "         2.0       0.78      0.66      0.71       175\n",
            "         3.0       0.65      0.88      0.75       529\n",
            "         4.0       0.69      0.63      0.66       373\n",
            "         5.0       0.64      0.42      0.51       197\n",
            "         6.0       0.55      0.51      0.53       136\n",
            "         7.0       0.62      0.40      0.49        88\n",
            "         8.0       0.56      0.26      0.35        35\n",
            "         9.0       0.00      0.00      0.00         2\n",
            "\n",
            "    accuracy                           0.66      1535\n",
            "   macro avg       0.56      0.47      0.50      1535\n",
            "weighted avg       0.66      0.66      0.65      1535\n",
            "\n",
            "------------------------------------------------------------\n",
            "CLASSIFICATION REPORT FOR: TEST\n",
            "              precision    recall  f1-score   support\n",
            "\n",
            "         2.0       0.45      0.35      0.39        52\n",
            "         3.0       0.46      0.71      0.56       177\n",
            "         4.0       0.34      0.33      0.33       111\n",
            "         5.0       0.36      0.14      0.21        84\n",
            "         6.0       0.38      0.27      0.32        55\n",
            "         7.0       0.60      0.38      0.46        24\n",
            "         8.0       0.50      0.11      0.18         9\n",
            "\n",
            "    accuracy                           0.42       512\n",
            "   macro avg       0.44      0.33      0.35       512\n",
            "weighted avg       0.41      0.42      0.40       512\n",
            "\n",
            "------------------------------------------------------------\n",
            "CONFUSION MATRIX: TEST\n"
          ]
        },
        {
          "output_type": "display_data",
          "data": {
            "text/plain": [
              "<Figure size 576x396 with 2 Axes>"
            ],
            "image/png": "[encoded data removed]"
          },
          "metadata": {}
        }
      ]
    },
    {
      "cell_type": "markdown",
      "source": [
        "###Hypertune"
      ],
      "metadata": {
        "id": "aywO_2XTzUuV"
      }
    },
    {
      "cell_type": "code",
      "source": [
        "def hyper_classification(model,param): \n",
        "                             \n",
        "    pipeline = make_pipeline(preprocessor,model)\n",
        "    pipeline.fit(X_train,y_train)\n",
        "\n",
        "    grid_search = GridSearchCV(pipeline,param)\n",
        "    grid_search.fit(X_train,y_train)\n",
        "    grid_search.best_params_\n",
        "\n",
        "    best_model = grid_search.best_estimator_\n",
        "    # Predictions\n",
        "    y_pred1 = best_model.predict(X_train)\n",
        "    y_pred2 = best_model.predict(X_test)\n",
        "\n",
        "    # Classification report for the train and test data\n",
        "    print('CLASSIFICATION REPORT FOR: TRAIN')\n",
        "    print(classification_report(y_train, y_pred1))\n",
        "    print('---'*20)\n",
        "    print('CLASSIFICATION REPORT FOR: TEST')\n",
        "    print(classification_report(y_test, y_pred2))\n",
        "    \n",
        "    # Confusion Matrix\n",
        "    print('---'*20)\n",
        "    print('CONFUSION MATRIX: TEST')\n",
        "    ConfusionMatrixDisplay.from_predictions(y_test, y_pred2, cmap ='Greens', normalize ='true')"
      ],
      "metadata": {
        "id": "5B4OEFwOC48I"
      },
      "execution_count": 149,
      "outputs": []
    },
    {
      "cell_type": "code",
      "execution_count": 121,
      "metadata": {
        "id": "ot6pgXaBSZJ-"
      },
      "outputs": [],
      "source": [
        "param_grid = {'logisticregression__penalty':['l1','l2']\n",
        "              ,'logisticregression__C':[1, 10, 100]\n",
        "              ,'logisticregression__solver':['newton-cg', 'lbfgs', 'liblinear']}"
      ]
    },
    {
      "cell_type": "code",
      "source": [
        "hyper_classification(logreg,param_grid)"
      ],
      "metadata": {
        "colab": {
          "base_uri": "https://localhost:8080/",
          "height": 974
        },
        "id": "aNb8eDgQDmUi",
        "outputId": "149ba29c-a505-4bff-8e3d-648d7e7eb16a"
      },
      "execution_count": 122,
      "outputs": [
        {
          "output_type": "stream",
          "name": "stdout",
          "text": [
            "\n",
            "\n",
            "CLASSIFICATION REPORT FOR: TRAIN\n",
            "              precision    recall  f1-score   support\n",
            "\n",
            "         2.0       0.78      0.41      0.53       175\n",
            "         3.0       0.50      0.91      0.64       529\n",
            "         4.0       0.52      0.30      0.38       373\n",
            "         5.0       0.58      0.25      0.35       197\n",
            "         6.0       0.50      0.40      0.44       136\n",
            "         7.0       0.59      0.36      0.45        88\n",
            "         8.0       0.57      0.23      0.33        35\n",
            "         9.0       0.00      0.00      0.00         2\n",
            "\n",
            "    accuracy                           0.53      1535\n",
            "   macro avg       0.51      0.36      0.39      1535\n",
            "weighted avg       0.55      0.53      0.49      1535\n",
            "\n",
            "------------------------------------------------------------\n",
            "CLASSIFICATION REPORT FOR: TEST\n",
            "              precision    recall  f1-score   support\n",
            "\n",
            "         2.0       0.46      0.21      0.29        52\n",
            "         3.0       0.42      0.81      0.56       177\n",
            "         4.0       0.35      0.25      0.29       111\n",
            "         5.0       0.48      0.14      0.22        84\n",
            "         6.0       0.46      0.22      0.30        55\n",
            "         7.0       0.53      0.38      0.44        24\n",
            "         8.0       0.50      0.11      0.18         9\n",
            "\n",
            "    accuracy                           0.42       512\n",
            "   macro avg       0.46      0.30      0.33       512\n",
            "weighted avg       0.43      0.42      0.38       512\n",
            "\n",
            "------------------------------------------------------------\n",
            "CONFUSION MATRIX: TEST\n"
          ]
        },
        {
          "output_type": "display_data",
          "data": {
            "text/plain": [
              "<Figure size 576x396 with 2 Axes>"
            ],
            "image/png": "[encoded data removed]"
          },
          "metadata": {}
        }
      ]
    },
    {
      "cell_type": "markdown",
      "source": [
        "##Decision Tree"
      ],
      "metadata": {
        "id": "I4z9mMwDrCuF"
      }
    },
    {
      "cell_type": "code",
      "source": [
        "dtc = DecisionTreeClassifier()\n",
        "\n",
        "evaluate_classification(dtc)"
      ],
      "metadata": {
        "colab": {
          "base_uri": "https://localhost:8080/",
          "height": 956
        },
        "id": "5b-7DSveFDiN",
        "outputId": "d21e4b8f-ee33-4ec1-834b-744e4e663c30"
      },
      "execution_count": 124,
      "outputs": [
        {
          "output_type": "stream",
          "name": "stdout",
          "text": [
            "CLASSIFICATION REPORT FOR: TRAIN\n",
            "              precision    recall  f1-score   support\n",
            "\n",
            "         2.0       1.00      1.00      1.00       175\n",
            "         3.0       1.00      1.00      1.00       529\n",
            "         4.0       1.00      1.00      1.00       373\n",
            "         5.0       1.00      1.00      1.00       197\n",
            "         6.0       1.00      1.00      1.00       136\n",
            "         7.0       1.00      1.00      1.00        88\n",
            "         8.0       1.00      1.00      1.00        35\n",
            "         9.0       1.00      1.00      1.00         2\n",
            "\n",
            "    accuracy                           1.00      1535\n",
            "   macro avg       1.00      1.00      1.00      1535\n",
            "weighted avg       1.00      1.00      1.00      1535\n",
            "\n",
            "------------------------------------------------------------\n",
            "CLASSIFICATION REPORT FOR: TEST\n",
            "              precision    recall  f1-score   support\n",
            "\n",
            "         2.0       0.45      0.42      0.44        52\n",
            "         3.0       0.49      0.54      0.52       177\n",
            "         4.0       0.34      0.37      0.35       111\n",
            "         5.0       0.29      0.25      0.27        84\n",
            "         6.0       0.30      0.22      0.25        55\n",
            "         7.0       0.22      0.21      0.21        24\n",
            "         8.0       0.42      0.56      0.48         9\n",
            "         9.0       0.00      0.00      0.00         0\n",
            "\n",
            "    accuracy                           0.39       512\n",
            "   macro avg       0.31      0.32      0.31       512\n",
            "weighted avg       0.39      0.39      0.39       512\n",
            "\n",
            "------------------------------------------------------------\n",
            "CONFUSION MATRIX: TEST\n"
          ]
        },
        {
          "output_type": "display_data",
          "data": {
            "text/plain": [
              "<Figure size 576x396 with 2 Axes>"
            ],
            "image/png": "[encoded data removed]"
          },
          "metadata": {}
        }
      ]
    },
    {
      "cell_type": "markdown",
      "source": [
        "###Hypertune"
      ],
      "metadata": {
        "id": "ZvR3LjpJrqDk"
      }
    },
    {
      "cell_type": "code",
      "source": [
        "dtc_grid = {'decisiontreeclassifier__max_depth': [10,20,30],\n",
        "              'decisiontreeclassifier__min_samples_leaf': [1,3,6],\n",
        "              'decisiontreeclassifier__min_samples_split': [10,20,100]}"
      ],
      "metadata": {
        "id": "Jz2UhsjJrbme"
      },
      "execution_count": 125,
      "outputs": []
    },
    {
      "cell_type": "code",
      "source": [
        "hyper_classification(dtc,dtc_grid)"
      ],
      "metadata": {
        "colab": {
          "base_uri": "https://localhost:8080/",
          "height": 939
        },
        "id": "blg0ulPqFL-D",
        "outputId": "3883ca3d-4820-41e3-a4e1-149373524286"
      },
      "execution_count": 150,
      "outputs": [
        {
          "output_type": "stream",
          "name": "stdout",
          "text": [
            "CLASSIFICATION REPORT FOR: TRAIN\n",
            "              precision    recall  f1-score   support\n",
            "\n",
            "         2.0       0.58      0.27      0.37       175\n",
            "         3.0       0.49      0.77      0.60       529\n",
            "         4.0       0.44      0.22      0.29       373\n",
            "         5.0       0.38      0.41      0.40       197\n",
            "         6.0       0.44      0.30      0.36       136\n",
            "         7.0       0.37      0.52      0.44        88\n",
            "         8.0       0.00      0.00      0.00        35\n",
            "         9.0       0.00      0.00      0.00         2\n",
            "\n",
            "    accuracy                           0.46      1535\n",
            "   macro avg       0.34      0.31      0.31      1535\n",
            "weighted avg       0.45      0.46      0.43      1535\n",
            "\n",
            "------------------------------------------------------------\n",
            "CLASSIFICATION REPORT FOR: TEST\n",
            "              precision    recall  f1-score   support\n",
            "\n",
            "         2.0       0.43      0.17      0.25        52\n",
            "         3.0       0.46      0.73      0.57       177\n",
            "         4.0       0.29      0.14      0.19       111\n",
            "         5.0       0.36      0.38      0.37        84\n",
            "         6.0       0.32      0.22      0.26        55\n",
            "         7.0       0.32      0.38      0.35        24\n",
            "         8.0       0.00      0.00      0.00         9\n",
            "\n",
            "    accuracy                           0.40       512\n",
            "   macro avg       0.31      0.29      0.28       512\n",
            "weighted avg       0.37      0.40      0.37       512\n",
            "\n",
            "------------------------------------------------------------\n",
            "CONFUSION MATRIX: TEST\n"
          ]
        },
        {
          "output_type": "display_data",
          "data": {
            "text/plain": [
              "<Figure size 576x396 with 2 Axes>"
            ],
            "image/png": "[encoded data removed]"
          },
          "metadata": {}
        }
      ]
    },
    {
      "cell_type": "markdown",
      "source": [
        "> The best parameters for Decision Tree were max depth: 10, min samples leaf: 6, and min samples split: 100."
      ],
      "metadata": {
        "id": "tO9WwL-_5SiC"
      }
    },
    {
      "cell_type": "markdown",
      "source": [
        "##KNN"
      ],
      "metadata": {
        "id": "A-HBEl1vgER9"
      }
    },
    {
      "cell_type": "code",
      "source": [
        "knn = KNeighborsClassifier()\n",
        "\n",
        "evaluate_classification(knn)"
      ],
      "metadata": {
        "colab": {
          "base_uri": "https://localhost:8080/",
          "height": 939
        },
        "id": "0udsDJZ0FY_q",
        "outputId": "3b9b2188-1d79-43cb-e118-c99183c5a70d"
      },
      "execution_count": 127,
      "outputs": [
        {
          "output_type": "stream",
          "name": "stdout",
          "text": [
            "CLASSIFICATION REPORT FOR: TRAIN\n",
            "              precision    recall  f1-score   support\n",
            "\n",
            "         2.0       0.54      0.71      0.62       175\n",
            "         3.0       0.60      0.74      0.66       529\n",
            "         4.0       0.53      0.44      0.48       373\n",
            "         5.0       0.55      0.42      0.47       197\n",
            "         6.0       0.57      0.50      0.53       136\n",
            "         7.0       0.62      0.38      0.47        88\n",
            "         8.0       0.64      0.40      0.49        35\n",
            "         9.0       0.00      0.00      0.00         2\n",
            "\n",
            "    accuracy                           0.57      1535\n",
            "   macro avg       0.51      0.45      0.47      1535\n",
            "weighted avg       0.57      0.57      0.56      1535\n",
            "\n",
            "------------------------------------------------------------\n",
            "CLASSIFICATION REPORT FOR: TEST\n",
            "              precision    recall  f1-score   support\n",
            "\n",
            "         2.0       0.31      0.46      0.37        52\n",
            "         3.0       0.49      0.62      0.55       177\n",
            "         4.0       0.32      0.26      0.29       111\n",
            "         5.0       0.35      0.21      0.27        84\n",
            "         6.0       0.35      0.27      0.31        55\n",
            "         7.0       0.42      0.33      0.37        24\n",
            "         8.0       0.33      0.11      0.17         9\n",
            "\n",
            "    accuracy                           0.40       512\n",
            "   macro avg       0.37      0.33      0.33       512\n",
            "weighted avg       0.39      0.40      0.39       512\n",
            "\n",
            "------------------------------------------------------------\n",
            "CONFUSION MATRIX: TEST\n"
          ]
        },
        {
          "output_type": "display_data",
          "data": {
            "text/plain": [
              "<Figure size 576x396 with 2 Axes>"
            ],
            "image/png": "[encoded data removed]"
          },
          "metadata": {}
        }
      ]
    },
    {
      "cell_type": "markdown",
      "source": [
        "###Hypertune"
      ],
      "metadata": {
        "id": "4u4OZfK7zhUY"
      }
    },
    {
      "cell_type": "code",
      "source": [
        "knn_grid = {'kneighborsclassifier__n_neighbors': [1,2,3]\n",
        "            ,'kneighborsclassifier__weights': ['uniform','distance']\n",
        "            ,'kneighborsclassifier__leaf_size': [10,20,30]}"
      ],
      "metadata": {
        "id": "ZXE9tR29glLW"
      },
      "execution_count": 128,
      "outputs": []
    },
    {
      "cell_type": "code",
      "source": [
        "hyper_classification(knn,knn_grid)"
      ],
      "metadata": {
        "colab": {
          "base_uri": "https://localhost:8080/",
          "height": 939
        },
        "id": "nfUwalp5Ff1K",
        "outputId": "aefddfd4-3b2f-4f9f-bc30-fa0a0afb6687"
      },
      "execution_count": 129,
      "outputs": [
        {
          "output_type": "stream",
          "name": "stdout",
          "text": [
            "CLASSIFICATION REPORT FOR: TRAIN\n",
            "              precision    recall  f1-score   support\n",
            "\n",
            "         2.0       0.67      1.00      0.80       175\n",
            "         3.0       0.68      0.89      0.77       529\n",
            "         4.0       0.71      0.52      0.60       373\n",
            "         5.0       0.72      0.51      0.60       197\n",
            "         6.0       0.74      0.51      0.60       136\n",
            "         7.0       0.71      0.48      0.57        88\n",
            "         8.0       0.92      0.31      0.47        35\n",
            "         9.0       0.00      0.00      0.00         2\n",
            "\n",
            "    accuracy                           0.69      1535\n",
            "   macro avg       0.64      0.53      0.55      1535\n",
            "weighted avg       0.70      0.69      0.68      1535\n",
            "\n",
            "------------------------------------------------------------\n",
            "CLASSIFICATION REPORT FOR: TEST\n",
            "              precision    recall  f1-score   support\n",
            "\n",
            "         2.0       0.39      0.65      0.49        52\n",
            "         3.0       0.47      0.63      0.54       177\n",
            "         4.0       0.31      0.24      0.27       111\n",
            "         5.0       0.45      0.25      0.32        84\n",
            "         6.0       0.38      0.22      0.28        55\n",
            "         7.0       0.55      0.25      0.34        24\n",
            "         8.0       0.44      0.44      0.44         9\n",
            "\n",
            "    accuracy                           0.42       512\n",
            "   macro avg       0.42      0.38      0.38       512\n",
            "weighted avg       0.41      0.42      0.40       512\n",
            "\n",
            "------------------------------------------------------------\n",
            "CONFUSION MATRIX: TEST\n"
          ]
        },
        {
          "output_type": "display_data",
          "data": {
            "text/plain": [
              "<Figure size 576x396 with 2 Axes>"
            ],
            "image/png": "[encoded data removed]"
          },
          "metadata": {}
        }
      ]
    },
    {
      "cell_type": "markdown",
      "source": [
        "> The best parameters for KNN were leaf size:10, n neighbors: 2, and weights:uniform."
      ],
      "metadata": {
        "id": "ckguqLhp_W3H"
      }
    },
    {
      "cell_type": "markdown",
      "metadata": {
        "id": "PLsE-alGK6Za"
      },
      "source": [
        "##Random Forest"
      ]
    },
    {
      "cell_type": "code",
      "execution_count": 130,
      "metadata": {
        "colab": {
          "base_uri": "https://localhost:8080/",
          "height": 939
        },
        "id": "OAXYyTk_KIXi",
        "outputId": "c7e31543-692d-4f7f-810a-cb9f84d9e771"
      },
      "outputs": [
        {
          "output_type": "stream",
          "name": "stdout",
          "text": [
            "CLASSIFICATION REPORT FOR: TRAIN\n",
            "              precision    recall  f1-score   support\n",
            "\n",
            "         2.0       1.00      1.00      1.00       175\n",
            "         3.0       1.00      1.00      1.00       529\n",
            "         4.0       1.00      1.00      1.00       373\n",
            "         5.0       1.00      1.00      1.00       197\n",
            "         6.0       1.00      1.00      1.00       136\n",
            "         7.0       1.00      1.00      1.00        88\n",
            "         8.0       1.00      1.00      1.00        35\n",
            "         9.0       1.00      1.00      1.00         2\n",
            "\n",
            "    accuracy                           1.00      1535\n",
            "   macro avg       1.00      1.00      1.00      1535\n",
            "weighted avg       1.00      1.00      1.00      1535\n",
            "\n",
            "------------------------------------------------------------\n",
            "CLASSIFICATION REPORT FOR: TEST\n",
            "              precision    recall  f1-score   support\n",
            "\n",
            "         2.0       0.53      0.44      0.48        52\n",
            "         3.0       0.51      0.68      0.59       177\n",
            "         4.0       0.38      0.31      0.34       111\n",
            "         5.0       0.38      0.29      0.32        84\n",
            "         6.0       0.38      0.33      0.35        55\n",
            "         7.0       0.36      0.33      0.35        24\n",
            "         8.0       0.27      0.33      0.30         9\n",
            "\n",
            "    accuracy                           0.45       512\n",
            "   macro avg       0.40      0.39      0.39       512\n",
            "weighted avg       0.44      0.45      0.44       512\n",
            "\n",
            "------------------------------------------------------------\n",
            "CONFUSION MATRIX: TEST\n"
          ]
        },
        {
          "output_type": "display_data",
          "data": {
            "text/plain": [
              "<Figure size 576x396 with 2 Axes>"
            ],
            "image/png": "[encoded data removed]"
          },
          "metadata": {}
        }
      ],
      "source": [
        "rf = RandomForestClassifier(random_state = 42)\n",
        "\n",
        "evaluate_classification(rf)"
      ]
    },
    {
      "cell_type": "markdown",
      "source": [
        "###Hypertune"
      ],
      "metadata": {
        "id": "5bA0uO7ga4zM"
      }
    },
    {
      "cell_type": "code",
      "execution_count": 131,
      "metadata": {
        "id": "xdq8FNzER_2B"
      },
      "outputs": [],
      "source": [
        "rf_grid = {'randomforestclassifier__max_depth': [10, 20, 30],\n",
        "              'randomforestclassifier__min_samples_leaf': [1, 2, 3],\n",
        "              'randomforestclassifier__min_samples_split': [2, 4, 7]}"
      ]
    },
    {
      "cell_type": "code",
      "source": [
        "hyper_classification(rf,rf_grid)"
      ],
      "metadata": {
        "colab": {
          "base_uri": "https://localhost:8080/",
          "height": 939
        },
        "id": "tv4SplBiFvPY",
        "outputId": "cbbe19fa-2829-4dd9-e4bc-d8abab6944ae"
      },
      "execution_count": 132,
      "outputs": [
        {
          "output_type": "stream",
          "name": "stdout",
          "text": [
            "CLASSIFICATION REPORT FOR: TRAIN\n",
            "              precision    recall  f1-score   support\n",
            "\n",
            "         2.0       1.00      0.40      0.57       175\n",
            "         3.0       0.54      0.98      0.69       529\n",
            "         4.0       0.77      0.40      0.53       373\n",
            "         5.0       0.81      0.48      0.61       197\n",
            "         6.0       0.74      0.52      0.61       136\n",
            "         7.0       0.83      0.59      0.69        88\n",
            "         8.0       0.78      0.71      0.75        35\n",
            "         9.0       0.00      0.00      0.00         2\n",
            "\n",
            "    accuracy                           0.64      1535\n",
            "   macro avg       0.68      0.51      0.56      1535\n",
            "weighted avg       0.72      0.64      0.62      1535\n",
            "\n",
            "------------------------------------------------------------\n",
            "CLASSIFICATION REPORT FOR: TEST\n",
            "              precision    recall  f1-score   support\n",
            "\n",
            "         2.0       0.86      0.12      0.20        52\n",
            "         3.0       0.45      0.94      0.61       177\n",
            "         4.0       0.42      0.20      0.27       111\n",
            "         5.0       0.60      0.21      0.32        84\n",
            "         6.0       0.48      0.24      0.32        55\n",
            "         7.0       0.50      0.38      0.43        24\n",
            "         8.0       0.20      0.11      0.14         9\n",
            "\n",
            "    accuracy                           0.46       512\n",
            "   macro avg       0.50      0.31      0.33       512\n",
            "weighted avg       0.51      0.46      0.40       512\n",
            "\n",
            "------------------------------------------------------------\n",
            "CONFUSION MATRIX: TEST\n"
          ]
        },
        {
          "output_type": "display_data",
          "data": {
            "text/plain": [
              "<Figure size 576x396 with 2 Axes>"
            ],
            "image/png": "[encoded data removed]"
          },
          "metadata": {}
        }
      ]
    },
    {
      "cell_type": "markdown",
      "source": [
        "> The best parameters for Random Forest were max depth: 30, min_sample_leaf: 1, and min_samples_split: 7."
      ],
      "metadata": {
        "id": "z-REJQyjavYr"
      }
    },
    {
      "cell_type": "markdown",
      "source": [
        "#Best Selections"
      ],
      "metadata": {
        "id": "tLNFgZr9_zh6"
      }
    },
    {
      "cell_type": "markdown",
      "source": [
        "> Of the four models and their hypertuned selections used, the best original model was the Random Forest and the best hypertuned selection was KNN."
      ],
      "metadata": {
        "id": "i7ou3Y_l_2G5"
      }
    },
    {
      "cell_type": "markdown",
      "source": [
        "#PCA"
      ],
      "metadata": {
        "id": "7zlfmkaD7lcS"
      }
    },
    {
      "cell_type": "markdown",
      "source": [
        "##PCA w/ Random Forest"
      ],
      "metadata": {
        "id": "2BqfiurJDewt"
      }
    },
    {
      "cell_type": "code",
      "source": [
        "%%time\n",
        "pca = PCA(n_components=.95)\n",
        "pca_model = make_pipeline(pca,rf)\n",
        "\n",
        "evaluate_classification(pca_model)"
      ],
      "metadata": {
        "colab": {
          "base_uri": "https://localhost:8080/",
          "height": 973
        },
        "id": "zQ5kEr1JoxeZ",
        "outputId": "0edcaac4-828f-45c1-ea28-e7230b0a3964"
      },
      "execution_count": 155,
      "outputs": [
        {
          "output_type": "stream",
          "name": "stdout",
          "text": [
            "CLASSIFICATION REPORT FOR: TRAIN\n",
            "              precision    recall  f1-score   support\n",
            "\n",
            "         2.0       1.00      1.00      1.00       175\n",
            "         3.0       1.00      1.00      1.00       529\n",
            "         4.0       1.00      1.00      1.00       373\n",
            "         5.0       1.00      1.00      1.00       197\n",
            "         6.0       1.00      0.99      1.00       136\n",
            "         7.0       1.00      1.00      1.00        88\n",
            "         8.0       1.00      1.00      1.00        35\n",
            "         9.0       1.00      1.00      1.00         2\n",
            "\n",
            "    accuracy                           1.00      1535\n",
            "   macro avg       1.00      1.00      1.00      1535\n",
            "weighted avg       1.00      1.00      1.00      1535\n",
            "\n",
            "------------------------------------------------------------\n",
            "CLASSIFICATION REPORT FOR: TEST\n",
            "              precision    recall  f1-score   support\n",
            "\n",
            "         2.0       0.57      0.40      0.47        52\n",
            "         3.0       0.48      0.66      0.56       177\n",
            "         4.0       0.34      0.32      0.33       111\n",
            "         5.0       0.42      0.26      0.32        84\n",
            "         6.0       0.40      0.31      0.35        55\n",
            "         7.0       0.38      0.33      0.36        24\n",
            "         8.0       0.36      0.44      0.40         9\n",
            "\n",
            "    accuracy                           0.44       512\n",
            "   macro avg       0.42      0.39      0.40       512\n",
            "weighted avg       0.43      0.44      0.43       512\n",
            "\n",
            "------------------------------------------------------------\n",
            "CONFUSION MATRIX: TEST\n",
            "CPU times: user 3.62 s, sys: 883 ms, total: 4.5 s\n",
            "Wall time: 3.76 s\n"
          ]
        },
        {
          "output_type": "display_data",
          "data": {
            "text/plain": [
              "<Figure size 576x396 with 2 Axes>"
            ],
            "image/png": "[encoded data removed]"
          },
          "metadata": {}
        }
      ]
    },
    {
      "cell_type": "markdown",
      "source": [
        "##PCA w/ KNN"
      ],
      "metadata": {
        "id": "HxR5w4yaDjB-"
      }
    },
    {
      "cell_type": "code",
      "source": [
        "%%time\n",
        "pca = PCA(n_components=.95)\n",
        "knn = KNeighborsClassifier(leaf_size=10, n_neighbors= 2, weights='uniform')\n",
        "pca_model = make_pipeline(pca,knn)\n",
        "\n",
        "evaluate_classification(pca_model)"
      ],
      "metadata": {
        "colab": {
          "base_uri": "https://localhost:8080/",
          "height": 973
        },
        "id": "UB6y8qorCRUn",
        "outputId": "e15e4f62-9250-4cd2-c6c5-9d60f39f33dc"
      },
      "execution_count": 154,
      "outputs": [
        {
          "output_type": "stream",
          "name": "stdout",
          "text": [
            "CLASSIFICATION REPORT FOR: TRAIN\n",
            "              precision    recall  f1-score   support\n",
            "\n",
            "         2.0       0.70      1.00      0.83       175\n",
            "         3.0       0.68      0.91      0.78       529\n",
            "         4.0       0.71      0.51      0.60       373\n",
            "         5.0       0.72      0.51      0.60       197\n",
            "         6.0       0.74      0.51      0.61       136\n",
            "         7.0       0.72      0.48      0.58        88\n",
            "         8.0       0.92      0.31      0.47        35\n",
            "         9.0       0.00      0.00      0.00         2\n",
            "\n",
            "    accuracy                           0.70      1535\n",
            "   macro avg       0.65      0.53      0.56      1535\n",
            "weighted avg       0.71      0.70      0.68      1535\n",
            "\n",
            "------------------------------------------------------------\n",
            "CLASSIFICATION REPORT FOR: TEST\n",
            "              precision    recall  f1-score   support\n",
            "\n",
            "         2.0       0.37      0.58      0.45        52\n",
            "         3.0       0.47      0.67      0.55       177\n",
            "         4.0       0.30      0.24      0.27       111\n",
            "         5.0       0.48      0.24      0.32        84\n",
            "         6.0       0.39      0.20      0.27        55\n",
            "         7.0       0.55      0.25      0.34        24\n",
            "         8.0       0.44      0.44      0.44         9\n",
            "\n",
            "    accuracy                           0.42       512\n",
            "   macro avg       0.43      0.37      0.38       512\n",
            "weighted avg       0.42      0.42      0.40       512\n",
            "\n",
            "------------------------------------------------------------\n",
            "CONFUSION MATRIX: TEST\n",
            "CPU times: user 1.59 s, sys: 419 ms, total: 2.01 s\n",
            "Wall time: 1.47 s\n"
          ]
        },
        {
          "output_type": "display_data",
          "data": {
            "text/plain": [
              "<Figure size 576x396 with 2 Axes>"
            ],
            "image/png": "[encoded data removed]"
          },
          "metadata": {}
        }
      ]
    },
    {
      "cell_type": "markdown",
      "source": [
        "#Production Model\n",
        "> I have concluded that the best model for predicting the Spanish Red Wine Rating is the PCA model combined with the hypertuned KNeighborsClassifier. I believe it had the best combination of accuracy with the train and test model and also performed the quickest at a total of 2.01 seconds."
      ],
      "metadata": {
        "id": "aknobIMoKbuG"
      }
    }
  ],
  "metadata": {
    "colab": {
      "provenance": [],
      "toc_visible": true,
      "authorship_tag": "ABX9TyN9BumfabEtnsXTP25tzAVu",
      "include_colab_link": true
    },
    "kernelspec": {
      "display_name": "Python 3",
      "name": "python3"
    },
    "language_info": {
      "name": "python"
    }
  },
  "nbformat": 4,
  "nbformat_minor": 0
}